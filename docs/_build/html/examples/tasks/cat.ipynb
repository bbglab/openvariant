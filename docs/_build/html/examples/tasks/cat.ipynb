{
 "cells": [
  {
   "cell_type": "markdown",
   "metadata": {
    "collapsed": false,
    "pycharm": {
     "name": "#%% md\n"
    }
   },
   "source": [
    "# _Cat_"
   ]
  },
  {
   "cell_type": "markdown",
   "metadata": {
    "collapsed": false,
    "pycharm": {
     "name": "#%% md\n"
    }
   },
   "source": [
    "Simple example where we can find how **cat** task works. This task is able with command-line."
   ]
  },
  {
   "cell_type": "code",
   "execution_count": 1,
   "metadata": {
    "collapsed": false,
    "pycharm": {
     "name": "#%%\n"
    }
   },
   "outputs": [],
   "source": [
    "from os import getcwd\n",
    "from os.path import dirname\n",
    "from openvariant import cat\n",
    "\n",
    "dataset_folder = f'{dirname(getcwd())}/datasets/sample2'"
   ]
  },
  {
   "cell_type": "markdown",
   "metadata": {
    "collapsed": false,
    "pycharm": {
     "name": "#%% md\n"
    }
   },
   "source": [
    "`cat` task allow us to show on the standard output the parsed result. It has the following parameters:\n",
    "\n",
    "- `base_path` - Input path to explore and parse.\n",
    "- `annotation_path` - Path of the _annotation_ path.\n",
    "- `where` - Filter expression.\n",
    "- `header_show` - Show header on the result.\n",
    "- `output` - File path to save the output result."
   ]
  },
  {
   "cell_type": "code",
   "execution_count": 2,
   "metadata": {
    "collapsed": false,
    "pycharm": {
     "name": "#%%\n"
    }
   },
   "outputs": [
    {
     "name": "stdout",
     "output_type": "stream",
     "text": [
      "SYMBOL\tCYTOBAND\tCANCER\n",
      "ACAP3\t1p36.33\tMESO\n",
      "ACTRT2\t1p36.32\tMESO\n",
      "AGRN\t1p36.33\tMESO\n",
      "ANKRD65\t1p36.33\tMESO\n",
      "ATAD3A\t1p36.33\tMESO\n",
      "ATAD3B\t1p36.33\tMESO\n",
      "ATAD3C\t1p36.33\tMESO\n",
      "AURKAIP1\t1p36.33\tMESO\n",
      "B3GALT6\t1p36.33\tMESO\n",
      "ACAP3\t1p36.33\tACC\n",
      "ACTRT2\t1p36.32\tACC\n",
      "AGRN\t1p36.33\tACC\n",
      "ANKRD65\t1p36.33\tACC\n",
      "ATAD3A\t1p36.33\tACC\n",
      "ATAD3B\t1p36.33\tACC\n",
      "ATAD3C\t1p36.33\tACC\n",
      "AURKAIP1\t1p36.33\tACC\n",
      "B3GALT6\t1p36.33\tACC\n"
     ]
    }
   ],
   "source": [
    "cat(base_path=dataset_folder)"
   ]
  },
  {
   "cell_type": "markdown",
   "metadata": {
    "collapsed": false,
    "pycharm": {
     "name": "#%% md\n"
    }
   },
   "source": [
    "One of the parameter on `cat` task is `where`. You will be able to apply a conditional filter. The possible operations can be:\n",
    "- `==` - Equal.\n",
    "- `!=` - Not equal.\n",
    "- `<=` - Less or equal than.\n",
    "- `<` - Less than.\n",
    "- `>=` - More or equal than.\n",
    "- `>` - More than.\n",
    "\n",
    "One example of this parameter is the following one:"
   ]
  },
  {
   "cell_type": "code",
   "execution_count": 3,
   "metadata": {
    "collapsed": false,
    "pycharm": {
     "name": "#%%\n"
    }
   },
   "outputs": [
    {
     "name": "stdout",
     "output_type": "stream",
     "text": [
      "SYMBOL\tCYTOBAND\tCANCER\n",
      "ATAD3C\t1p36.33\tMESO\n",
      "ATAD3C\t1p36.33\tACC\n"
     ]
    }
   ],
   "source": [
    "cat(base_path=dataset_folder, where=\"SYMBOL == 'ATAD3C'\")"
   ]
  }
 ],
 "metadata": {
  "kernelspec": {
   "display_name": "Python 3",
   "language": "python",
   "name": "python3"
  },
  "language_info": {
   "codemirror_mode": {
    "name": "ipython",
    "version": 2
   },
   "file_extension": ".py",
   "mimetype": "text/x-python",
   "name": "python",
   "nbconvert_exporter": "python",
   "pygments_lexer": "ipython2",
   "version": "2.7.6"
  }
 },
 "nbformat": 4,
 "nbformat_minor": 0
}
