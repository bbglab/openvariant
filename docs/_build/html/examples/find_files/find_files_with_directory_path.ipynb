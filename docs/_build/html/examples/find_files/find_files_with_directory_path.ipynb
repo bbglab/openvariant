{
 "cells": [
  {
   "cell_type": "markdown",
   "metadata": {
    "collapsed": false,
    "pycharm": {
     "name": "#%% md\n"
    }
   },
   "source": [
    "# With directory path"
   ]
  },
  {
   "cell_type": "code",
   "execution_count": 6,
   "metadata": {
    "collapsed": false,
    "pycharm": {
     "name": "#%%\n"
    }
   },
   "outputs": [],
   "source": [
    "from os import getcwd\n",
    "from os.path import dirname\n",
    "from openvariant import find_files"
   ]
  },
  {
   "cell_type": "code",
   "execution_count": 9,
   "metadata": {
    "collapsed": false,
    "pycharm": {
     "name": "#%%\n"
    }
   },
   "outputs": [
    {
     "name": "stdout",
     "output_type": "stream",
     "text": [
      "Path file: /home/dmartinez/openvariant/examples/datasets/sample1/4c0b87e5-ee6a-4d1b-89e3-0e4af13bea34.wgs.CaVEMan.raw_somatic_mutation.vcf.gz\n",
      "Annotation object: <openvariant.annotation.annotation.Annotation object at 0x7ff07035caf0>\n",
      "-------------------------------------\n",
      "Path file: /home/dmartinez/openvariant/examples/datasets/sample1/3e45c90e-3e32-4d62-ba4a-a23fb166ebdc.wgs.CaVEMan.raw_somatic_mutation.vcf.gz\n",
      "Annotation object: <openvariant.annotation.annotation.Annotation object at 0x7ff07035cdc0>\n",
      "-------------------------------------\n",
      "Path file: /home/dmartinez/openvariant/examples/datasets/sample1/6fabf35c-4a22-4a6f-bf87-4ab9d67af24b.wgs.CaVEMan.raw_somatic_mutation.vcf.gz\n",
      "Annotation object: <openvariant.annotation.annotation.Annotation object at 0x7ff07035cac0>\n",
      "-------------------------------------\n",
      "Path file: /home/dmartinez/openvariant/examples/datasets/sample1/de46c011-295e-41cc-b396-38a8b8d5e0a0.wgs.CaVEMan.raw_somatic_mutation.vcf.gz\n",
      "Annotation object: <openvariant.annotation.annotation.Annotation object at 0x7ff0723df3a0>\n",
      "-------------------------------------\n",
      "Path file: /home/dmartinez/openvariant/examples/datasets/sample1/80e43eb5-53cc-4950-8e11-3a70e22b6025.wgs.CaVEMan.raw_somatic_mutation.vcf.gz\n",
      "Annotation object: <openvariant.annotation.annotation.Annotation object at 0x7ff072794a60>\n",
      "-------------------------------------\n",
      "Path file: /home/dmartinez/openvariant/examples/datasets/sample1/b2165d6b-2026-4c67-96f8-b8e31337cf0a.wgs.CaVEMan.raw_somatic_mutation.vcf.gz\n",
      "Annotation object: <openvariant.annotation.annotation.Annotation object at 0x7ff0607c2c40>\n",
      "-------------------------------------\n",
      "Path file: /home/dmartinez/openvariant/examples/datasets/sample1/8db5f405-81cd-41ec-8bce-7e638d4257ca.wgs.CaVEMan.raw_somatic_mutation.vcf.gz\n",
      "Annotation object: <openvariant.annotation.annotation.Annotation object at 0x7ff0726c8610>\n",
      "-------------------------------------\n",
      "Path file: /home/dmartinez/openvariant/examples/datasets/sample1/9dc23b6c-0a23-45f4-9ed4-36f5c7fffbef.wgs.CaVEMan.raw_somatic_mutation.vcf.gz\n",
      "Annotation object: <openvariant.annotation.annotation.Annotation object at 0x7ff0723df3a0>\n",
      "-------------------------------------\n"
     ]
    }
   ],
   "source": [
    "dataset_folder = f'{dirname(getcwd())}/datasets/sample1'\n",
    "\n",
    "for file_path, annotation in find_files(dataset_folder):\n",
    "    print(f'Path file: {file_path}')\n",
    "    print(f'Annotation object: {annotation}')\n",
    "    print(\"-------------------------------------\")"
   ]
  }
 ],
 "metadata": {
  "kernelspec": {
   "display_name": "Python 3",
   "language": "python",
   "name": "python3"
  },
  "language_info": {
   "codemirror_mode": {
    "name": "ipython",
    "version": 2
   },
   "file_extension": ".py",
   "mimetype": "text/x-python",
   "name": "python",
   "nbconvert_exporter": "python",
   "pygments_lexer": "ipython2",
   "version": "2.7.6"
  }
 },
 "nbformat": 4,
 "nbformat_minor": 0
}
