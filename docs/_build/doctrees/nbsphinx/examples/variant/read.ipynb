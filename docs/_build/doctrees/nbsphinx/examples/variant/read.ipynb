{
 "cells": [
  {
   "cell_type": "markdown",
   "metadata": {
    "collapsed": false,
    "pycharm": {
     "name": "#%% md\n"
    }
   },
   "source": [
    "# Read"
   ]
  },
  {
   "cell_type": "code",
   "execution_count": 1,
   "metadata": {
    "collapsed": false,
    "pycharm": {
     "name": "#%%\n"
    }
   },
   "outputs": [],
   "source": [
    "from os import getcwd\n",
    "from os.path import dirname\n",
    "from openvariant import Annotation, Variant\n",
    "\n",
    "dataset_file = f'{dirname(getcwd())}/datasets/sample1/22f5b2f.wxs.maf.gz'\n",
    "annotation_file = f'{dirname(getcwd())}/datasets/sample1/annotation_maf.yaml'"
   ]
  },
  {
   "cell_type": "code",
   "execution_count": 3,
   "metadata": {
    "collapsed": false,
    "pycharm": {
     "name": "#%%\n"
    }
   },
   "outputs": [
    {
     "name": "stdout",
     "output_type": "stream",
     "text": [
      "Line in a dict: {'PLATFORM': 'WGS'}\n",
      "Line in a dict: {'PLATFORM': 'WGS'}\n",
      "Line in a dict: {'PLATFORM': 'WGS'}\n",
      "Line in a dict: {'PLATFORM': 'WGS'}\n",
      "Line in a dict: {'PLATFORM': 'WGS'}\n",
      "Line in a dict: {'PLATFORM': 'WGS'}\n",
      "Line in a dict: {'PLATFORM': 'WGS'}\n",
      "Line in a dict: {'PLATFORM': 'WGS'}\n",
      "Line in a dict: {'PLATFORM': 'WGS'}\n",
      "Line in a dict: {'PLATFORM': 'WGS'}\n"
     ]
    }
   ],
   "source": [
    "annotation = Annotation(annotation_file)\n",
    "result = Variant(dataset_file, annotation)\n",
    "number_lines = 10\n",
    "for line in result.read():\n",
    "    if number_lines != 0:\n",
    "        print(f\"Line in a dict: {line}\")\n",
    "        number_lines -= 1"
   ]
  },
  {
   "cell_type": "code",
   "execution_count": null,
   "metadata": {
    "collapsed": false,
    "pycharm": {
     "name": "#%%\n"
    }
   },
   "outputs": [],
   "source": []
  }
 ],
 "metadata": {
  "kernelspec": {
   "display_name": "Python 3",
   "language": "python",
   "name": "python3"
  },
  "language_info": {
   "codemirror_mode": {
    "name": "ipython",
    "version": 2
   },
   "file_extension": ".py",
   "mimetype": "text/x-python",
   "name": "python",
   "nbconvert_exporter": "python",
   "pygments_lexer": "ipython2",
   "version": "2.7.6"
  }
 },
 "nbformat": 4,
 "nbformat_minor": 0
}
