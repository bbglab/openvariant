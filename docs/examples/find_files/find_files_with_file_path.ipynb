{
 "cells": [
  {
   "cell_type": "markdown",
   "source": [
    "# With file path"
   ],
   "metadata": {
    "collapsed": false,
    "pycharm": {
     "name": "#%% md\n"
    }
   }
  },
  {
   "cell_type": "markdown",
   "source": [
    "A simple example on how find files task works for a file path."
   ],
   "metadata": {
    "collapsed": false,
    "pycharm": {
     "name": "#%% md\n"
    }
   }
  },
  {
   "cell_type": "code",
   "execution_count": 1,
   "outputs": [],
   "source": [
    "from os import getcwd\n",
    "from os.path import dirname\n",
    "from openvariant import findfiles\n",
    "\n",
    "dataset_file = f'{dirname(getcwd())}/datasets/sample1/5a3a743.wxs.maf.gz'"
   ],
   "metadata": {
    "collapsed": false,
    "pycharm": {
     "name": "#%%\n"
    }
   }
  },
  {
   "cell_type": "markdown",
   "source": [
    "As it occurs on the [directory path examples](find_files_with_directory_path.ipynb), it will get the file and its corresponding _Annotation_ object.\n",
    "\n",
    "`find_files` function parameters:\n",
    "\n",
    "- `base_path` - Base path of _input_ file.\n",
    "- `annotation_path` - Path of _annotation_ file.\n",
    "\n",
    "It will only get one file as an _output_, the file that is passed as a parameter. In case that there's any _annotation_ file that matches with the file's pattern, it won't generate any output."
   ],
   "metadata": {
    "collapsed": false,
    "pycharm": {
     "name": "#%% md\n"
    }
   }
  },
  {
   "cell_type": "code",
   "execution_count": 2,
   "outputs": [
    {
     "name": "stdout",
     "output_type": "stream",
     "text": [
      "File path: /home/dmartinez/openvariant/examples/datasets/sample1/5a3a743.wxs.maf.gz\n",
      "Annotation object: <openvariant.annotation.annotation.Annotation object at 0x7f46043b9580>\n",
      "-------------------------------------\n"
     ]
    }
   ],
   "source": [
    "for file_path, annotation in findfiles(base_path=dataset_file):\n",
    "    print(f'File path: {file_path}')\n",
    "    print(f'Annotation object: {annotation}')\n",
    "    print(\"-------------------------------------\")"
   ],
   "metadata": {
    "collapsed": false,
    "pycharm": {
     "name": "#%%\n"
    }
   }
  },
  {
   "cell_type": "markdown",
   "source": [
    "It is possible to pass the _annotation_ file as a parameter of the function.\n",
    "\n",
    "It will generate the same output as it did before, and if the _annotation_ file doesn't match with the _input_ file it will not generate any output."
   ],
   "metadata": {
    "collapsed": false,
    "pycharm": {
     "name": "#%% md\n"
    }
   }
  },
  {
   "cell_type": "code",
   "execution_count": 3,
   "outputs": [
    {
     "name": "stdout",
     "output_type": "stream",
     "text": [
      "File path: /home/dmartinez/openvariant/examples/datasets/sample1/5a3a743.wxs.maf.gz\n",
      "Annotation object: <openvariant.annotation.annotation.Annotation object at 0x7f46040c7940>\n",
      "-------------------------------------\n"
     ]
    }
   ],
   "source": [
    "annotation_file = f'{dirname(getcwd())}/datasets/sample1/annotation_maf.yaml'\n",
    "\n",
    "for file_path, annotation in findfiles(dataset_file, annotation_file):\n",
    "    print(f'File path: {file_path}')\n",
    "    print(f'Annotation object: {annotation}')\n",
    "    print(\"-------------------------------------\")"
   ],
   "metadata": {
    "collapsed": false,
    "pycharm": {
     "name": "#%%\n"
    }
   }
  },
  {
   "cell_type": "markdown",
   "source": [
    "As it occurs on the [directory path examples](find_files_with_directory_path.ipynb), it will get the file and its corresponding _Annotation_ object.\n",
    "\n",
    "It will only get one file as an output, the file that is passed as a parameter. In case that there's any _annotation_ file that matches with the file's pattern, it won't generate any output."
   ],
   "metadata": {
    "collapsed": false,
    "pycharm": {
     "name": "#%% md\n"
    }
   }
  },
  {
   "cell_type": "code",
   "execution_count": 4,
   "outputs": [
    {
     "name": "stdout",
     "output_type": "stream",
     "text": [
      "File path: /home/dmartinez/openvariant/examples/datasets/sample1/5a3a743.wxs.maf.gz\n",
      "Annotation object: <openvariant.annotation.annotation.Annotation object at 0x7f46040c7c70>\n",
      "-------------------------------------\n"
     ]
    }
   ],
   "source": [
    "for file_path, annotation in findfiles(dataset_file):\n",
    "    print(f'File path: {file_path}')\n",
    "    print(f'Annotation object: {annotation}')\n",
    "    print(\"-------------------------------------\")"
   ],
   "metadata": {
    "collapsed": false,
    "pycharm": {
     "name": "#%%\n"
    }
   }
  }
 ],
 "metadata": {
  "kernelspec": {
   "display_name": "Python 3",
   "language": "python",
   "name": "python3"
  },
  "language_info": {
   "codemirror_mode": {
    "name": "ipython",
    "version": 2
   },
   "file_extension": ".py",
   "mimetype": "text/x-python",
   "name": "python",
   "nbconvert_exporter": "python",
   "pygments_lexer": "ipython2",
   "version": "2.7.6"
  }
 },
 "nbformat": 4,
 "nbformat_minor": 0
}