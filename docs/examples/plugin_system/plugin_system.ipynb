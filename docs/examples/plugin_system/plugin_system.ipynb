{
 "cells": [
  {
   "cell_type": "markdown",
   "source": [
    "# Plugin system example"
   ],
   "metadata": {
    "collapsed": false,
    "pycharm": {
     "name": "#%% md\n"
    }
   }
  },
  {
   "cell_type": "code",
   "execution_count": 1,
   "outputs": [
    {
     "name": "stdout",
     "output_type": "stream",
     "text": [
      "CHROM\tDATE\tLENGTH\n",
      "1\t2022-07-15\t11704534\n",
      "1\t2022-07-15\t952775\n",
      "1\t2022-07-15\t29541449\n",
      "1\t2022-07-15\t908318\n",
      "1\t2022-07-15\t4718729\n",
      "1\t2022-07-15\t5256\n",
      "1\t2022-07-15\t5437819\n",
      "1\t2022-07-15\t16162861\n",
      "1\t2022-07-15\t68867991\n",
      "1\t2022-07-15\t5333339\n",
      "1\t2022-07-15\t89192370\n",
      "2\t2022-07-15\t23822788\n",
      "2\t2022-07-15\t6936675\n",
      "2\t2022-07-15\t60736747\n"
     ]
    }
   ],
   "source": [
    "%%bash\n",
    "openvar cat ../datasets/sample3 --header"
   ],
   "metadata": {
    "collapsed": false,
    "pycharm": {
     "name": "#%%\n"
    }
   }
  }
 ],
 "metadata": {
  "kernelspec": {
   "display_name": "Python 3",
   "language": "python",
   "name": "python3"
  },
  "language_info": {
   "codemirror_mode": {
    "name": "ipython",
    "version": 2
   },
   "file_extension": ".py",
   "mimetype": "text/x-python",
   "name": "python",
   "nbconvert_exporter": "python",
   "pygments_lexer": "ipython2",
   "version": "2.7.6"
  }
 },
 "nbformat": 4,
 "nbformat_minor": 0
}