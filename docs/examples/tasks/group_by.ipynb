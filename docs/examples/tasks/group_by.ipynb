{
 "cells": [
  {
   "cell_type": "markdown",
   "metadata": {
    "collapsed": false,
    "jupyter": {
     "outputs_hidden": false
    },
    "pycharm": {
     "name": "#%% md\n"
    }
   },
   "source": [
    "# _Group by_"
   ]
  },
  {
   "cell_type": "markdown",
   "metadata": {
    "collapsed": false,
    "jupyter": {
     "outputs_hidden": false
    },
    "pycharm": {
     "name": "#%% md\n"
    }
   },
   "source": [
    "A simple example where we can find how **group by** task works. This task is able with command-line.\n"
   ]
  },
  {
   "cell_type": "code",
   "execution_count": 1,
   "metadata": {
    "collapsed": false,
    "jupyter": {
     "outputs_hidden": false
    },
    "pycharm": {
     "name": "#%%\n"
    }
   },
   "outputs": [],
   "source": [
    "from os.path import dirname\n",
    "from os import getcwd\n",
    "from openvariant import group_by\n",
    "\n",
    "dataset_folder = f'{dirname(getcwd())}/datasets/sample2'\n",
    "annotation_path = f'{dirname(getcwd())}/datasets/sample2/annotation.yaml'"
   ]
  },
  {
   "cell_type": "markdown",
   "metadata": {
    "collapsed": false,
    "jupyter": {
     "outputs_hidden": false
    },
    "pycharm": {
     "name": "#%% md\n"
    }
   },
   "source": [
    "`group_by` task allows us to group the rows depending on the value of an output field.\n",
    "\n",
    "- `base_path` - Input path to explore and parse.\n",
    "- `annotation_path` - Path of the annotation path.\n",
    "- `script` - Command-line to execute with the result of the parsing.\n",
    "- `key_by` - Key to group rows.\n",
    "- `where` - Filter expression.\n",
    "- `cores` - Maximum processes to run in parallel.\n",
    "- `quite` - Do not show the progress meanwhile the parsing is running.\n",
    "- `header` - Show header on the result.\n",
    "- `skip_files` - Skip unreadable files and directories.\n",
    "\n",
    "On the following example we can see a general case for `group by` task:"
   ]
  },
  {
   "cell_type": "code",
   "execution_count": 2,
   "metadata": {
    "collapsed": false,
    "jupyter": {
     "outputs_hidden": false
    },
    "pycharm": {
     "name": "#%%\n"
    }
   },
   "outputs": [
    {
     "name": "stdout",
     "output_type": "stream",
     "text": [
      "Group: MESO\n",
      "ACAP3\t1p36.33\tMESO\n",
      "ACTRT2\t1p36.32\tMESO\n",
      "AGRN\t1p36.33\tMESO\n",
      "ANKRD65\t1p36.33\tMESO\n",
      "ATAD3A\t1p36.33\tMESO\n",
      "ATAD3B\t1p36.33\tMESO\n",
      "ATAD3C\t1p36.33\tMESO\n",
      "AURKAIP1\t1p36.33\tMESO\n",
      "B3GALT6\t1p36.33\tMESO\n",
      "\n",
      "\n",
      "Group: ACC\n",
      "ACAP3\t1p36.33\tACC\n",
      "ACTRT2\t1p36.32\tACC\n",
      "AGRN\t1p36.33\tACC\n",
      "ANKRD65\t1p36.33\tACC\n",
      "ATAD3A\t1p36.33\tACC\n",
      "ATAD3B\t1p36.33\tACC\n",
      "ATAD3C\t1p36.33\tACC\n",
      "AURKAIP1\t1p36.33\tACC\n",
      "B3GALT6\t1p36.33\tACC\n",
      "\n",
      "\n"
     ]
    }
   ],
   "source": [
    "for group, values, script_used in group_by(base_path=dataset_folder, annotation_path=annotation_path, script=None, key_by=\"CANCER\", quite=True):\n",
    "    print(f'Group: {group}')\n",
    "    for row in values:\n",
    "        print(row)\n",
    "    print(\"\\n\")"
   ]
  },
  {
   "cell_type": "markdown",
   "metadata": {
    "collapsed": false,
    "jupyter": {
     "outputs_hidden": false
    },
    "pycharm": {
     "name": "#%% md\n"
    }
   },
   "source": [
    "One of the parameters on `count` task is `where`. You will be able to apply a conditional filter. The possible operations can be:\n",
    "\n",
    "+ `==` - Equal.\n",
    "+ `!=` - Not equal.\n",
    "+ `<=` - Less or equal than.\n",
    "+ `<` - Less than.\n",
    "+ `>=` - More or equal than.\n",
    "+ `>` - More than.\n",
    "\n",
    "One example of this parameter is the following one:"
   ]
  },
  {
   "cell_type": "code",
   "execution_count": 3,
   "metadata": {
    "collapsed": false,
    "jupyter": {
     "outputs_hidden": false
    },
    "pycharm": {
     "name": "#%%\n"
    }
   },
   "outputs": [
    {
     "name": "stdout",
     "output_type": "stream",
     "text": [
      "Group: MESO\n",
      "ATAD3C\t1p36.33\tMESO\n",
      "\n",
      "\n",
      "Group: ACC\n",
      "ATAD3C\t1p36.33\tACC\n",
      "\n",
      "\n"
     ]
    }
   ],
   "source": [
    "for group, values, script_used in group_by(base_path=dataset_folder, annotation_path=annotation_path, script=None,where=\"SYMBOL == 'ATAD3C'\", key_by=\"CANCER\", quite=True):\n",
    "    print(f'Group: {group}')\n",
    "    for row in values:\n",
    "        print(row)\n",
    "    print(\"\\n\")"
   ]
  },
  {
   "cell_type": "markdown",
   "metadata": {
    "collapsed": false,
    "jupyter": {
     "outputs_hidden": false
    },
    "pycharm": {
     "name": "#%% md\n"
    }
   },
   "source": [
    "Also, on `group by` task, there is `script` parameter which will allow to the user to execute a command shell on the parsed result. In the following example we can see how many characters there are in each group of the parsed output:"
   ]
  },
  {
   "cell_type": "code",
   "execution_count": 4,
   "metadata": {
    "collapsed": false,
    "jupyter": {
     "outputs_hidden": false
    },
    "pycharm": {
     "name": "#%%\n"
    }
   },
   "outputs": [
    {
     "name": "stdout",
     "output_type": "stream",
     "text": [
      "Group: MESO\n",
      "181\n",
      "\n",
      "\n",
      "Group: ACC\n",
      "172\n",
      "\n",
      "\n"
     ]
    }
   ],
   "source": [
    "for group, values, script_used in group_by(base_path=dataset_folder, annotation_path=annotation_path, script=\"wc -m\", key_by=\"CANCER\", quite=True):\n",
    "    print(f'Group: {group}')\n",
    "    for row in values:\n",
    "        print(row)\n",
    "    print(\"\\n\")"
   ]
  }
 ],
 "metadata": {
  "kernelspec": {
   "display_name": "Python 3 (ipykernel)",
   "language": "python",
   "name": "python3"
  },
  "language_info": {
   "codemirror_mode": {
    "name": "ipython",
    "version": 3
   },
   "file_extension": ".py",
   "mimetype": "text/x-python",
   "name": "python",
   "nbconvert_exporter": "python",
   "pygments_lexer": "ipython3",
   "version": "3.10.16"
  }
 },
 "nbformat": 4,
 "nbformat_minor": 4
}
