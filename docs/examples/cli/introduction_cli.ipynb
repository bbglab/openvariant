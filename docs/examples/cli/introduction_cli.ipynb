{
 "cells": [
  {
   "cell_type": "markdown",
   "metadata": {
    "collapsed": false,
    "pycharm": {
     "name": "#%% md\n"
    }
   },
   "source": [
    "# Introduction"
   ]
  },
  {
   "cell_type": "markdown",
   "metadata": {
    "collapsed": false,
    "pycharm": {
     "name": "#%% md\n"
    }
   },
   "source": [
    "**OpenVariant** offers a command-line interface (CLI) with the main tasks that also can be applied in Python scripts.\n",
    "\n",
    "On the following command you can check the different options that `openvar` can run."
   ]
  },
  {
   "cell_type": "code",
   "execution_count": 1,
   "metadata": {
    "collapsed": false,
    "pycharm": {
     "name": "#%%\n"
    }
   },
   "outputs": [
    {
     "name": "stdout",
     "output_type": "stream",
     "text": [
      "Usage: openvar [OPTIONS] COMMAND [ARGS]...\n",
      "\n",
      "  'openvar' is the command-line interface of OpenVariant. Parsing and data\n",
      "  transformation of multiple input formats.\n",
      "\n",
      "Options:\n",
      "  --version   Show the version and exit.\n",
      "  -h, --help  Show this message and exit.\n",
      "\n",
      "Commands:\n",
      "  cat      Concatenate parsed files to standard output.\n",
      "  count    Number of rows that matches a specified criterion.\n",
      "  groupby  Group the parsed result for each different value of the specified\n",
      "           key.\n",
      "  plugin   Actions to execute for a plugin: create.\n"
     ]
    }
   ],
   "source": [
    "%%bash\n",
    "openvar --help"
   ]
  },
  {
   "cell_type": "markdown",
   "metadata": {
    "collapsed": false,
    "pycharm": {
     "name": "#%% md\n"
    }
   },
   "source": [
    "### **Cat** command"
   ]
  },
  {
   "cell_type": "code",
   "execution_count": 2,
   "metadata": {
    "collapsed": false,
    "pycharm": {
     "name": "#%%\n"
    }
   },
   "outputs": [
    {
     "name": "stdout",
     "output_type": "stream",
     "text": [
      "Usage: openvar cat [OPTIONS] [INPUT_PATH]\n",
      "\n",
      "  Print the parsed files on the stdout/\"output\".\n",
      "\n",
      "Options:\n",
      "  -w, --where TEXT        Filter expression. eg: CHROMOSOME == 4\n",
      "  -a, --annotations PATH  Annotation path. eg: /path/annotation_vcf.yaml\n",
      "  --header                Show the result header.\n",
      "  -o, --output TEXT       File to write the output.\n",
      "  -h, --help              Show this message and exit.\n"
     ]
    }
   ],
   "source": [
    "%%bash\n",
    "openvar cat --help"
   ]
  },
  {
   "cell_type": "markdown",
   "metadata": {
    "collapsed": false,
    "pycharm": {
     "name": "#%% md\n"
    }
   },
   "source": [
    "### **Count** command"
   ]
  },
  {
   "cell_type": "code",
   "execution_count": 3,
   "metadata": {
    "collapsed": false,
    "pycharm": {
     "name": "#%%\n"
    }
   },
   "outputs": [
    {
     "name": "stdout",
     "output_type": "stream",
     "text": [
      "Usage: openvar count [OPTIONS] [INPUT_PATH]\n",
      "\n",
      "  Print on the stdout/\"output\" the number of rows that meets the criteria.\n",
      "\n",
      "Options:\n",
      "  -w, --where TEXT        Filter expression. eg: CHROMOSOME == 4\n",
      "  -g, --group_by TEXT     Key to group rows. eg: COUNTRY\n",
      "  -a, --annotations PATH  Annotation path. eg: /path/annotation_vcf.yaml\n",
      "  -c, --cores INTEGER     Maximum processes to run in parallel.\n",
      "  -q, --quite             Don't show the progress.\n",
      "  -o, --output TEXT       File to write the output.\n",
      "  -h, --help              Show this message and exit.\n"
     ]
    }
   ],
   "source": [
    "%%bash\n",
    "openvar count --help"
   ]
  },
  {
   "cell_type": "markdown",
   "metadata": {
    "collapsed": false,
    "pycharm": {
     "name": "#%% md\n"
    }
   },
   "source": [
    "### **Group by** command"
   ]
  },
  {
   "cell_type": "code",
   "execution_count": 4,
   "metadata": {
    "collapsed": false,
    "pycharm": {
     "name": "#%%\n"
    }
   },
   "outputs": [
    {
     "name": "stdout",
     "output_type": "stream",
     "text": [
      "Usage: openvar groupby [OPTIONS] [INPUT_PATH]\n",
      "\n",
      "  Print on the stdout/\"output\" the parsed files group by a specified field.\n",
      "\n",
      "Options:\n",
      "  --header                Show the result header.\n",
      "  --show                  Show group by each row.\n",
      "  -w, --where TEXT        Filter expression. eg: CHROMOSOME == 4\n",
      "  -g, --group_by TEXT     Key to group rows. eg: COUNTRY\n",
      "  -s, --script TEXT       Filter expression. eg: gzip >\n",
      "                          \\${GROUP_KEY}.parsed.tsv.gz\n",
      "  -a, --annotations PATH  Annotation path. eg: /path/annotation_vcf.yaml\n",
      "  -c, --cores INTEGER     Maximum processes to run in parallel.\n",
      "  -q, --quite             Don't show the progress.\n",
      "  -o, --output TEXT       File to write the output.\n",
      "  -h, --help              Show this message and exit.\n"
     ]
    }
   ],
   "source": [
    "%%bash\n",
    "openvar groupby --help"
   ]
  },
  {
   "cell_type": "markdown",
   "metadata": {
    "collapsed": false,
    "pycharm": {
     "name": "#%% md\n"
    }
   },
   "source": [
    "### **Plugin** command"
   ]
  },
  {
   "cell_type": "code",
   "execution_count": 5,
   "metadata": {
    "collapsed": false,
    "pycharm": {
     "name": "#%%\n"
    }
   },
   "outputs": [
    {
     "name": "stdout",
     "output_type": "stream",
     "text": [
      "Usage: openvar plugin [OPTIONS] {create}\n",
      "\n",
      "  Actions to apply on the plugin system.\n",
      "\n",
      "Options:\n",
      "  -n, --name TEXT       Name of the plugin.\n",
      "  -d, --directory TEXT  Directory to reach the plugin.\n",
      "  -h, --help            Show this message and exit.\n"
     ]
    }
   ],
   "source": [
    "%%bash\n",
    "openvar plugin --help"
   ]
  }
 ],
 "metadata": {
  "kernelspec": {
   "display_name": "Python 3",
   "language": "python",
   "name": "python3"
  },
  "language_info": {
   "codemirror_mode": {
    "name": "ipython",
    "version": 2
   },
   "file_extension": ".py",
   "mimetype": "text/x-python",
   "name": "python",
   "nbconvert_exporter": "python",
   "pygments_lexer": "ipython2",
   "version": "2.7.6"
  }
 },
 "nbformat": 4,
 "nbformat_minor": 0
}
