{
 "cells": [
  {
   "cell_type": "markdown",
   "metadata": {
    "collapsed": false,
    "pycharm": {
     "name": "#%% md\n"
    }
   },
   "source": [
    "# Main tasks"
   ]
  },
  {
   "cell_type": "markdown",
   "metadata": {
    "collapsed": false,
    "pycharm": {
     "name": "#%% md\n"
    }
   },
   "source": [
    "We can run the main tasks that **OpenVariant** offers as a Python package, also, with a shell command. In [Introduction section](./introduction_cli.ipynb) you can check which are the different commands and their options.\n",
    "\n",
    "In the following examples we will see a little snip on these tasks.\n",
    "\n",
    "--------"
   ]
  },
  {
   "cell_type": "markdown",
   "metadata": {
    "collapsed": false,
    "pycharm": {
     "name": "#%% md\n"
    }
   },
   "source": [
    "### **Cat** command\n",
    "\n",
    "A simple case of the command:"
   ]
  },
  {
   "cell_type": "code",
   "execution_count": 1,
   "metadata": {
    "collapsed": false,
    "pycharm": {
     "name": "#%%\n"
    }
   },
   "outputs": [
    {
     "name": "stdout",
     "output_type": "stream",
     "text": [
      "ACAP3\t1p36.33\tMESO\n",
      "ACTRT2\t1p36.32\tMESO\n",
      "AGRN\t1p36.33\tMESO\n",
      "ANKRD65\t1p36.33\tMESO\n",
      "ATAD3A\t1p36.33\tMESO\n",
      "ATAD3B\t1p36.33\tMESO\n",
      "ATAD3C\t1p36.33\tMESO\n",
      "AURKAIP1\t1p36.33\tMESO\n",
      "B3GALT6\t1p36.33\tMESO\n",
      "ACAP3\t1p36.33\tACC\n",
      "ACTRT2\t1p36.32\tACC\n",
      "AGRN\t1p36.33\tACC\n",
      "ANKRD65\t1p36.33\tACC\n",
      "ATAD3A\t1p36.33\tACC\n",
      "ATAD3B\t1p36.33\tACC\n",
      "ATAD3C\t1p36.33\tACC\n",
      "AURKAIP1\t1p36.33\tACC\n",
      "B3GALT6\t1p36.33\tACC\n"
     ]
    }
   ],
   "source": [
    "%%bash\n",
    "openvar cat ../datasets/sample2"
   ]
  },
  {
   "cell_type": "markdown",
   "metadata": {
    "collapsed": false,
    "pycharm": {
     "name": "#%% md\n"
    }
   },
   "source": [
    "Using it with some flags:"
   ]
  },
  {
   "cell_type": "code",
   "execution_count": 2,
   "metadata": {
    "collapsed": false,
    "pycharm": {
     "name": "#%%\n"
    }
   },
   "outputs": [],
   "source": [
    "%%bash\n",
    "openvar cat ../datasets/sample2 --output ./output_cat_cmd.tsv --header"
   ]
  },
  {
   "cell_type": "markdown",
   "metadata": {
    "collapsed": false,
    "pycharm": {
     "name": "#%% md\n"
    }
   },
   "source": [
    "### **Count** command\n",
    "\n",
    "A simple case of the command:"
   ]
  },
  {
   "cell_type": "code",
   "execution_count": 3,
   "metadata": {
    "collapsed": false,
    "pycharm": {
     "name": "#%%\n"
    }
   },
   "outputs": [
    {
     "name": "stdout",
     "output_type": "stream",
     "text": [
      "TOTAL\t18\n"
     ]
    }
   ],
   "source": [
    "%%bash\n",
    "openvar count ../datasets/sample2 -q"
   ]
  },
  {
   "cell_type": "markdown",
   "metadata": {
    "collapsed": false,
    "pycharm": {
     "name": "#%% md\n"
    }
   },
   "source": [
    "Using it with some flags:"
   ]
  },
  {
   "cell_type": "code",
   "execution_count": 4,
   "metadata": {
    "collapsed": false,
    "pycharm": {
     "name": "#%%\n"
    }
   },
   "outputs": [
    {
     "name": "stdout",
     "output_type": "stream",
     "text": [
      "ACAP3\t2\n",
      "ACTRT2\t2\n",
      "AGRN\t2\n",
      "ANKRD65\t2\n",
      "ATAD3A\t2\n",
      "ATAD3B\t2\n",
      "ATAD3C\t2\n",
      "AURKAIP1\t2\n",
      "B3GALT6\t2\n",
      "TOTAL\t18\n"
     ]
    }
   ],
   "source": [
    "%%bash\n",
    "openvar count ../datasets/sample2 --group_by \"SYMBOL\" --cores 4 -q"
   ]
  },
  {
   "cell_type": "code",
   "execution_count": 5,
   "metadata": {
    "collapsed": false,
    "pycharm": {
     "name": "#%%\n"
    }
   },
   "outputs": [
    {
     "name": "stdout",
     "output_type": "stream",
     "text": [
      "ACAP3\t1\n",
      "ACTRT2\t1\n",
      "AGRN\t1\n",
      "ANKRD65\t1\n",
      "ATAD3A\t1\n",
      "ATAD3B\t1\n",
      "ATAD3C\t1\n",
      "AURKAIP1\t1\n",
      "B3GALT6\t1\n",
      "TOTAL\t9\n"
     ]
    }
   ],
   "source": [
    "%%bash\n",
    "openvar count ../datasets/sample2 --group_by \"SYMBOL\" --where \"CANCER == 'ACC'\" --cores 4 -q"
   ]
  },
  {
   "cell_type": "markdown",
   "metadata": {
    "collapsed": false,
    "pycharm": {
     "name": "#%% md\n"
    }
   },
   "source": [
    "### **Group by** command\n",
    "\n",
    "A simple case of the command:"
   ]
  },
  {
   "cell_type": "code",
   "execution_count": 6,
   "metadata": {
    "collapsed": false,
    "pycharm": {
     "name": "#%%\n"
    }
   },
   "outputs": [
    {
     "name": "stdout",
     "output_type": "stream",
     "text": [
      "SYMBOL\tCYTOBAND\tCANCER\n",
      "ACC\tACAP3\t1p36.33\tACC\n",
      "ACC\tACTRT2\t1p36.32\tACC\n",
      "ACC\tAGRN\t1p36.33\tACC\n",
      "ACC\tANKRD65\t1p36.33\tACC\n",
      "ACC\tATAD3A\t1p36.33\tACC\n",
      "ACC\tATAD3B\t1p36.33\tACC\n",
      "ACC\tATAD3C\t1p36.33\tACC\n",
      "ACC\tAURKAIP1\t1p36.33\tACC\n",
      "ACC\tB3GALT6\t1p36.33\tACC\n",
      "MESO\tSYMBOL\tCYTOBAND\tCANCER\n",
      "MESO\tACAP3\t1p36.33\tMESO\n",
      "MESO\tACTRT2\t1p36.32\tMESO\n",
      "MESO\tAGRN\t1p36.33\tMESO\n",
      "MESO\tANKRD65\t1p36.33\tMESO\n",
      "MESO\tATAD3A\t1p36.33\tMESO\n",
      "MESO\tATAD3B\t1p36.33\tMESO\n",
      "MESO\tATAD3C\t1p36.33\tMESO\n",
      "MESO\tAURKAIP1\t1p36.33\tMESO\n",
      "MESO\tB3GALT6\t1p36.33\tMESO\n"
     ]
    }
   ],
   "source": [
    "%%bash\n",
    "openvar groupby ../datasets/sample2 -g \"CANCER\" --show --header -q"
   ]
  },
  {
   "cell_type": "markdown",
   "metadata": {
    "collapsed": false,
    "pycharm": {
     "name": "#%% md\n"
    }
   },
   "source": [
    "Using it with some flags:"
   ]
  },
  {
   "cell_type": "code",
   "execution_count": 7,
   "metadata": {
    "collapsed": false,
    "pycharm": {
     "name": "#%%\n"
    }
   },
   "outputs": [
    {
     "name": "stdout",
     "output_type": "stream",
     "text": [
      "MESO\tATAD3C\t1p36.33\tMESO\n",
      "ACC\tATAD3C\t1p36.33\tACC\n"
     ]
    }
   ],
   "source": [
    "%%bash\n",
    "openvar groupby ../datasets/sample2 -g \"CANCER\" --where \"SYMBOL == 'ATAD3C'\" --cores 4 --show -q"
   ]
  },
  {
   "cell_type": "code",
   "execution_count": 8,
   "metadata": {
    "collapsed": false,
    "pycharm": {
     "name": "#%%\n"
    }
   },
   "outputs": [
    {
     "name": "stdout",
     "output_type": "stream",
     "text": [
      "ACC\tATAD3A\t1p36.33\tACC\n",
      "ACC\tATAD3B\t1p36.33\tACC\n",
      "ACC\tATAD3C\t1p36.33\tACC\n",
      "ACC\tB3GALT6\t1p36.33\tACC\n",
      "MESO\tATAD3A\t1p36.33\tMESO\n",
      "MESO\tATAD3B\t1p36.33\tMESO\n",
      "MESO\tATAD3C\t1p36.33\tMESO\n",
      "MESO\tB3GALT6\t1p36.33\tMESO\n"
     ]
    }
   ],
   "source": [
    "%%bash\n",
    "openvar groupby ../datasets/sample2 -g \"CANCER\" --script  \"grep -E -i '^(B3|ATA)'\" --show --cores 4 -q"
   ]
  },
  {
   "cell_type": "markdown",
   "metadata": {
    "collapsed": false,
    "pycharm": {
     "name": "#%% md\n"
    }
   },
   "source": [
    "\n",
    "### **Plugin** command\n",
    "\n",
    "_Plugin_ is slightly different than the others commands.\n",
    "\n",
    "On this one we have only one single action: `create`. \n",
    "The plugin will use the environment variable `OPENVAR_PLUGIN` directory where to store new plugins.\n",
    "\n",
    "by default:\n",
    "\n",
    "```sh\n",
    "OPENVAR_PLUGIN=/home/user/.local/share/openvariant\n",
    "```\n",
    "\n",
    "default directory can be changed by exporting a new path to OPENVAR_PLUGIN variable.\n",
    "\n",
    "i.e.\n",
    "```sh\n",
    "export OPENVAR_PLUGIN=/my/plugin/path/\n",
    "```"
   ]
  },
  {
   "cell_type": "code",
   "execution_count": null,
   "metadata": {
    "collapsed": false,
    "pycharm": {
     "name": "#%%\n"
    }
   },
   "outputs": [],
   "source": [
    "%%bash\n",
    "openvar plugin create --name add_date"
   ]
  }
 ],
 "metadata": {
  "kernelspec": {
   "display_name": "Python 3",
   "language": "python",
   "name": "python3"
  },
  "language_info": {
   "codemirror_mode": {
    "name": "ipython",
    "version": 2
   },
   "file_extension": ".py",
   "mimetype": "text/x-python",
   "name": "python",
   "nbconvert_exporter": "python",
   "pygments_lexer": "ipython2",
   "version": "2.7.6"
  }
 },
 "nbformat": 4,
 "nbformat_minor": 0
}
