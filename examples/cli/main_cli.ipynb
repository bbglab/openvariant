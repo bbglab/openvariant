{
 "cells": [
  {
   "cell_type": "markdown",
   "source": [
    "# Main tasks"
   ],
   "metadata": {
    "collapsed": false,
    "pycharm": {
     "name": "#%% md\n"
    }
   }
  },
  {
   "cell_type": "markdown",
   "source": [
    "We can run the main tasks that **OpenVariant** offers as a Python package, also, with a shell command. In [Introduction section](./introduction_cli.ipynb) you can check which are the different commands and their options.\n",
    "\n",
    "In the following examples we will see a little snip on these tasks.\n",
    "\n",
    "--------"
   ],
   "metadata": {
    "collapsed": false,
    "pycharm": {
     "name": "#%% md\n"
    }
   }
  },
  {
   "cell_type": "markdown",
   "source": [
    "### ***Cat*** command\n",
    "\n",
    "A simple case of the command:"
   ],
   "metadata": {
    "collapsed": false,
    "pycharm": {
     "name": "#%% md\n"
    }
   }
  },
  {
   "cell_type": "code",
   "execution_count": 1,
   "outputs": [
    {
     "name": "stdout",
     "output_type": "stream",
     "text": [
      "ACAP3\t1p36.33\tMESO\n",
      "ACTRT2\t1p36.32\tMESO\n",
      "AGRN\t1p36.33\tMESO\n",
      "ANKRD65\t1p36.33\tMESO\n",
      "ATAD3A\t1p36.33\tMESO\n",
      "ATAD3B\t1p36.33\tMESO\n",
      "ATAD3C\t1p36.33\tMESO\n",
      "AURKAIP1\t1p36.33\tMESO\n",
      "B3GALT6\t1p36.33\tMESO\n",
      "ACAP3\t1p36.33\tACC\n",
      "ACTRT2\t1p36.32\tACC\n",
      "AGRN\t1p36.33\tACC\n",
      "ANKRD65\t1p36.33\tACC\n",
      "ATAD3A\t1p36.33\tACC\n",
      "ATAD3B\t1p36.33\tACC\n",
      "ATAD3C\t1p36.33\tACC\n",
      "AURKAIP1\t1p36.33\tACC\n",
      "B3GALT6\t1p36.33\tACC\n"
     ]
    }
   ],
   "source": [
    "%%bash\n",
    "openvar cat ../datasets/sample2"
   ],
   "metadata": {
    "collapsed": false,
    "pycharm": {
     "name": "#%%\n"
    }
   }
  },
  {
   "cell_type": "markdown",
   "source": [
    "Using it with some flags:"
   ],
   "metadata": {
    "collapsed": false,
    "pycharm": {
     "name": "#%% md\n"
    }
   }
  },
  {
   "cell_type": "code",
   "execution_count": 2,
   "outputs": [],
   "source": [
    "%%bash\n",
    "openvar cat ../datasets/sample2 --output ./output_cat_cmd.tsv --header"
   ],
   "metadata": {
    "collapsed": false,
    "pycharm": {
     "name": "#%%\n"
    }
   }
  },
  {
   "cell_type": "markdown",
   "source": [
    "### ***Count*** command\n",
    "\n",
    "A simple case of the command:"
   ],
   "metadata": {
    "collapsed": false,
    "pycharm": {
     "name": "#%% md\n"
    }
   }
  },
  {
   "cell_type": "code",
   "execution_count": 3,
   "outputs": [
    {
     "name": "stdout",
     "output_type": "stream",
     "text": [
      "TOTAL\t18\n"
     ]
    }
   ],
   "source": [
    "%%bash\n",
    "openvar count ../datasets/sample2 -q"
   ],
   "metadata": {
    "collapsed": false,
    "pycharm": {
     "name": "#%%\n"
    }
   }
  },
  {
   "cell_type": "markdown",
   "source": [
    "Using it with some flags:"
   ],
   "metadata": {
    "collapsed": false,
    "pycharm": {
     "name": "#%% md\n"
    }
   }
  },
  {
   "cell_type": "code",
   "execution_count": 4,
   "outputs": [
    {
     "name": "stdout",
     "output_type": "stream",
     "text": [
      "ACAP3\t2\n",
      "ACTRT2\t2\n",
      "AGRN\t2\n",
      "ANKRD65\t2\n",
      "ATAD3A\t2\n",
      "ATAD3B\t2\n",
      "ATAD3C\t2\n",
      "AURKAIP1\t2\n",
      "B3GALT6\t2\n",
      "TOTAL\t18\n"
     ]
    }
   ],
   "source": [
    "%%bash\n",
    "openvar count ../datasets/sample2 --group_by \"SYMBOL\" --cores 4 -q"
   ],
   "metadata": {
    "collapsed": false,
    "pycharm": {
     "name": "#%%\n"
    }
   }
  },
  {
   "cell_type": "code",
   "execution_count": 5,
   "outputs": [
    {
     "name": "stdout",
     "output_type": "stream",
     "text": [
      "ACAP3\t1\n",
      "ACTRT2\t1\n",
      "AGRN\t1\n",
      "ANKRD65\t1\n",
      "ATAD3A\t1\n",
      "ATAD3B\t1\n",
      "ATAD3C\t1\n",
      "AURKAIP1\t1\n",
      "B3GALT6\t1\n",
      "TOTAL\t9\n"
     ]
    }
   ],
   "source": [
    "%%bash\n",
    "openvar count ../datasets/sample2 --group_by \"SYMBOL\" --where \"CANCER == 'ACC'\" --cores 4 -q"
   ],
   "metadata": {
    "collapsed": false,
    "pycharm": {
     "name": "#%%\n"
    }
   }
  },
  {
   "cell_type": "markdown",
   "source": [
    "### ***Group by*** command\n",
    "\n",
    "A simple case of the command:"
   ],
   "metadata": {
    "collapsed": false,
    "pycharm": {
     "name": "#%% md\n"
    }
   }
  },
  {
   "cell_type": "code",
   "execution_count": 6,
   "outputs": [
    {
     "name": "stdout",
     "output_type": "stream",
     "text": [
      "SYMBOL\tCYTOBAND\tCANCER\n",
      "ACC\tACAP3\t1p36.33\tACC\n",
      "ACC\tACTRT2\t1p36.32\tACC\n",
      "ACC\tAGRN\t1p36.33\tACC\n",
      "ACC\tANKRD65\t1p36.33\tACC\n",
      "ACC\tATAD3A\t1p36.33\tACC\n",
      "ACC\tATAD3B\t1p36.33\tACC\n",
      "ACC\tATAD3C\t1p36.33\tACC\n",
      "ACC\tAURKAIP1\t1p36.33\tACC\n",
      "ACC\tB3GALT6\t1p36.33\tACC\n",
      "MESO\tSYMBOL\tCYTOBAND\tCANCER\n",
      "MESO\tACAP3\t1p36.33\tMESO\n",
      "MESO\tACTRT2\t1p36.32\tMESO\n",
      "MESO\tAGRN\t1p36.33\tMESO\n",
      "MESO\tANKRD65\t1p36.33\tMESO\n",
      "MESO\tATAD3A\t1p36.33\tMESO\n",
      "MESO\tATAD3B\t1p36.33\tMESO\n",
      "MESO\tATAD3C\t1p36.33\tMESO\n",
      "MESO\tAURKAIP1\t1p36.33\tMESO\n",
      "MESO\tB3GALT6\t1p36.33\tMESO\n"
     ]
    }
   ],
   "source": [
    "%%bash\n",
    "openvar groupby ../datasets/sample2 -g \"CANCER\" --show --header -q"
   ],
   "metadata": {
    "collapsed": false,
    "pycharm": {
     "name": "#%%\n"
    }
   }
  },
  {
   "cell_type": "markdown",
   "source": [
    "Using it with some flags:"
   ],
   "metadata": {
    "collapsed": false,
    "pycharm": {
     "name": "#%% md\n"
    }
   }
  },
  {
   "cell_type": "code",
   "execution_count": 7,
   "outputs": [
    {
     "name": "stdout",
     "output_type": "stream",
     "text": [
      "MESO\tATAD3C\t1p36.33\tMESO\n",
      "ACC\tATAD3C\t1p36.33\tACC\n"
     ]
    }
   ],
   "source": [
    "%%bash\n",
    "openvar groupby ../datasets/sample2 -g \"CANCER\" --where \"SYMBOL == 'ATAD3C'\" --cores 4 --show -q"
   ],
   "metadata": {
    "collapsed": false,
    "pycharm": {
     "name": "#%%\n"
    }
   }
  },
  {
   "cell_type": "code",
   "execution_count": 8,
   "outputs": [
    {
     "name": "stdout",
     "output_type": "stream",
     "text": [
      "ACC\tATAD3A\t1p36.33\tACC\n",
      "ACC\tATAD3B\t1p36.33\tACC\n",
      "ACC\tATAD3C\t1p36.33\tACC\n",
      "ACC\tB3GALT6\t1p36.33\tACC\n",
      "MESO\tATAD3A\t1p36.33\tMESO\n",
      "MESO\tATAD3B\t1p36.33\tMESO\n",
      "MESO\tATAD3C\t1p36.33\tMESO\n",
      "MESO\tB3GALT6\t1p36.33\tMESO\n"
     ]
    }
   ],
   "source": [
    "%%bash\n",
    "openvar groupby ../datasets/sample2 -g \"CANCER\" --script  \"grep -E -i '^(B3|ATA)'\" --show --cores 4 -q"
   ],
   "metadata": {
    "collapsed": false,
    "pycharm": {
     "name": "#%%\n"
    }
   }
  },
  {
   "cell_type": "markdown",
   "source": [
    "\n",
    "### ***Plugin*** command\n",
    "\n",
    "_Plugin_ is slightly different than the others commands.\n",
    "\n",
    "On this one we have only one single action: `create`."
   ],
   "metadata": {
    "collapsed": false,
    "pycharm": {
     "name": "#%% md\n"
    }
   }
  },
  {
   "cell_type": "code",
   "execution_count": null,
   "outputs": [],
   "source": [
    "%%bash\n",
    "openvar plugin create --name add_date --directory ../plugin_system"
   ],
   "metadata": {
    "collapsed": false,
    "pycharm": {
     "name": "#%%\n"
    }
   }
  }
 ],
 "metadata": {
  "kernelspec": {
   "display_name": "Python 3",
   "language": "python",
   "name": "python3"
  },
  "language_info": {
   "codemirror_mode": {
    "name": "ipython",
    "version": 2
   },
   "file_extension": ".py",
   "mimetype": "text/x-python",
   "name": "python",
   "nbconvert_exporter": "python",
   "pygments_lexer": "ipython2",
   "version": "2.7.6"
  }
 },
 "nbformat": 4,
 "nbformat_minor": 0
}