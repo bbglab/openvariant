{
 "cells": [
  {
   "cell_type": "markdown",
   "source": [
    "# _Cat_"
   ],
   "metadata": {
    "collapsed": false,
    "pycharm": {
     "name": "#%% md\n"
    }
   }
  },
  {
   "cell_type": "markdown",
   "source": [
    "A simple example where we can find how **cat** task works. This task is able with command-line."
   ],
   "metadata": {
    "collapsed": false,
    "pycharm": {
     "name": "#%% md\n"
    }
   }
  },
  {
   "cell_type": "code",
   "execution_count": 1,
   "outputs": [],
   "source": [
    "from os import getcwd\n",
    "from os.path import dirname\n",
    "from openvariant import cat\n",
    "\n",
    "dataset_folder = f'{dirname(getcwd())}/datasets/sample2'"
   ],
   "metadata": {
    "collapsed": false,
    "pycharm": {
     "name": "#%%\n"
    }
   }
  },
  {
   "cell_type": "markdown",
   "source": [
    "`cat` task allows us to show on the standard output the parsed result. It has the following parameters:\n",
    "\n",
    "- `base_path` - Input path to explore and parse.\n",
    "- `annotation_path` - Path of the _annotation_ path.\n",
    "- `where` - Filter expression.\n",
    "- `header_show` - Show header on the result.\n",
    "- `output` - File path to save the output result."
   ],
   "metadata": {
    "collapsed": false,
    "pycharm": {
     "name": "#%% md\n"
    }
   }
  },
  {
   "cell_type": "code",
   "execution_count": 2,
   "outputs": [
    {
     "name": "stdout",
     "output_type": "stream",
     "text": [
      "SYMBOL\tCYTOBAND\tCANCER\n",
      "ACAP3\t1p36.33\tMESO\n",
      "ACTRT2\t1p36.32\tMESO\n",
      "AGRN\t1p36.33\tMESO\n",
      "ANKRD65\t1p36.33\tMESO\n",
      "ATAD3A\t1p36.33\tMESO\n",
      "ATAD3B\t1p36.33\tMESO\n",
      "ATAD3C\t1p36.33\tMESO\n",
      "AURKAIP1\t1p36.33\tMESO\n",
      "B3GALT6\t1p36.33\tMESO\n",
      "ACAP3\t1p36.33\tACC\n",
      "ACTRT2\t1p36.32\tACC\n",
      "AGRN\t1p36.33\tACC\n",
      "ANKRD65\t1p36.33\tACC\n",
      "ATAD3A\t1p36.33\tACC\n",
      "ATAD3B\t1p36.33\tACC\n",
      "ATAD3C\t1p36.33\tACC\n",
      "AURKAIP1\t1p36.33\tACC\n",
      "B3GALT6\t1p36.33\tACC\n"
     ]
    }
   ],
   "source": [
    "cat(base_path=dataset_folder)"
   ],
   "metadata": {
    "collapsed": false,
    "pycharm": {
     "name": "#%%\n"
    }
   }
  },
  {
   "cell_type": "markdown",
   "source": [
    "One of the parameters on `cat` task is `where`. You will be able to apply a conditional filter. The possible operations can be:\n",
    "\n",
    "+ `==` - Equal.\n",
    "+ `!=` - Not equal.\n",
    "+ `<=` - Less or equal than.\n",
    "+ `<` - Less than.\n",
    "+ `>=` - More or equal than.\n",
    "+ `>` - More than.\n",
    "\n",
    "One example of this parameter is the following one:"
   ],
   "metadata": {
    "collapsed": false,
    "pycharm": {
     "name": "#%% md\n"
    }
   }
  },
  {
   "cell_type": "code",
   "execution_count": 3,
   "outputs": [
    {
     "name": "stdout",
     "output_type": "stream",
     "text": [
      "SYMBOL\tCYTOBAND\tCANCER\n",
      "ATAD3C\t1p36.33\tMESO\n",
      "ATAD3C\t1p36.33\tACC\n"
     ]
    }
   ],
   "source": [
    "cat(base_path=dataset_folder, where=\"SYMBOL == 'ATAD3C'\")"
   ],
   "metadata": {
    "collapsed": false,
    "pycharm": {
     "name": "#%%\n"
    }
   }
  }
 ],
 "metadata": {
  "kernelspec": {
   "display_name": "Python 3",
   "language": "python",
   "name": "python3"
  },
  "language_info": {
   "codemirror_mode": {
    "name": "ipython",
    "version": 2
   },
   "file_extension": ".py",
   "mimetype": "text/x-python",
   "name": "python",
   "nbconvert_exporter": "python",
   "pygments_lexer": "ipython2",
   "version": "2.7.6"
  }
 },
 "nbformat": 4,
 "nbformat_minor": 0
}