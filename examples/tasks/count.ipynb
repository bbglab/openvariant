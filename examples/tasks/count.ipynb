{
 "cells": [
  {
   "cell_type": "markdown",
   "metadata": {
    "collapsed": false,
    "pycharm": {
     "name": "#%% md\n"
    }
   },
   "source": [
    "# _Count_"
   ]
  },
  {
   "cell_type": "markdown",
   "metadata": {
    "collapsed": false,
    "pycharm": {
     "name": "#%% md\n"
    }
   },
   "source": [
    "A simple example where we can find how **count** task works. This task is able with command-line."
   ]
  },
  {
   "cell_type": "code",
   "execution_count": 1,
   "metadata": {
    "collapsed": false,
    "pycharm": {
     "name": "#%%\n"
    }
   },
   "outputs": [],
   "source": [
    "from os import getcwd\n",
    "from os.path import dirname\n",
    "from openvariant import count\n",
    "\n",
    "dataset_folder = f'{dirname(getcwd())}/datasets/sample2'\n",
    "annotation_path = f'{dirname(getcwd())}/datasets/sample2/annotation.yaml'"
   ]
  },
  {
   "cell_type": "markdown",
   "metadata": {
    "collapsed": false,
    "pycharm": {
     "name": "#%% md\n"
    }
   },
   "source": [
    "`count` task allows us to count the number of rows that result has. It has the following parameters:\n",
    "\n",
    "- `base_path` - Input path to explore and parse.\n",
    "- `annotation_path` - Path of the annotation path.\n",
    "- `group_by` - Key to group rows.\n",
    "- `where` - Filter expression.\n",
    "- `cores` - Maximum processes to run in parallel.\n",
    "- `quite` - Do not show the progress meanwhile the parsing is running.\n",
    "\n",
    "On the following example we can see a general case of `count` task:"
   ]
  },
  {
   "cell_type": "code",
   "execution_count": 2,
   "metadata": {
    "collapsed": false,
    "pycharm": {
     "name": "#%%\n"
    }
   },
   "outputs": [
    {
     "name": "stdout",
     "output_type": "stream",
     "text": [
      "Total: 18\n"
     ]
    }
   ],
   "source": [
    "result = count(base_path=dataset_folder, annotation_path=annotation_path, quite=True)\n",
    "print(f\"Total: {result[0]}\")"
   ]
  },
  {
   "cell_type": "markdown",
   "metadata": {
    "collapsed": false,
    "pycharm": {
     "name": "#%% md\n"
    }
   },
   "source": [
    "One of the parameter on `count` task is `where`. You will be able to apply a conditional filter. The possible operations can be:\n",
    "\n",
    "+ `==` - Equal.\n",
    "+ `!=` - Not equal.\n",
    "+ `<=` - Less or equal than.\n",
    "+ `<` - Less than.\n",
    "+ `>=` - More or equal than.\n",
    "+ `>` - More than.\n",
    "\n",
    "Also, `group_by` to group rows on different values of this key. An example of these parameters is the following one:"
   ]
  },
  {
   "cell_type": "code",
   "execution_count": 3,
   "metadata": {
    "collapsed": false,
    "pycharm": {
     "name": "#%%\n"
    }
   },
   "outputs": [
    {
     "name": "stdout",
     "output_type": "stream",
     "text": [
      "Total: 2\n",
      "Groups and count: {'MESO': 1, 'ACC': 1}\n"
     ]
    }
   ],
   "source": [
    "result = count(base_path=dataset_folder, annotation_path=annotation_path, where=\"SYMBOL == 'ATAD3C'\", group_by=\"CANCER\", quite=True)\n",
    "print(f\"Total: {result[0]}\")\n",
    "print(f\"Groups and count: {result[1]}\")"
   ]
  }
 ],
 "metadata": {
  "kernelspec": {
   "display_name": "Python 3",
   "language": "python",
   "name": "python3"
  },
  "language_info": {
   "codemirror_mode": {
    "name": "ipython",
    "version": 2
   },
   "file_extension": ".py",
   "mimetype": "text/x-python",
   "name": "python",
   "nbconvert_exporter": "python",
   "pygments_lexer": "ipython2",
   "version": "2.7.6"
  }
 },
 "nbformat": 4,
 "nbformat_minor": 0
}
