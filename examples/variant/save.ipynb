{
 "cells": [
  {
   "cell_type": "markdown",
   "source": [
    "# Save"
   ],
   "metadata": {
    "collapsed": false,
    "pycharm": {
     "name": "#%% md\n"
    }
   }
  },
  {
   "cell_type": "markdown",
   "source": [
    "A simple example on how **Variant** can save the output.\n"
   ],
   "metadata": {
    "collapsed": false,
    "pycharm": {
     "name": "#%% md\n"
    }
   }
  },
  {
   "cell_type": "code",
   "execution_count": 1,
   "outputs": [],
   "source": [
    "from os import getcwd\n",
    "from os.path import dirname\n",
    "from openvariant import Annotation, Variant\n",
    "\n",
    "dataset_file = f'{dirname(getcwd())}/datasets/sample1/22f5b2f.wxs.maf.gz'\n",
    "annotation_file = f'{dirname(getcwd())}/datasets/sample1/annotation_maf.yaml'"
   ],
   "metadata": {
    "collapsed": false,
    "pycharm": {
     "name": "#%%\n"
    }
   }
  },
  {
   "cell_type": "markdown",
   "source": [
    "`Annotation` object generated from _annotation_ file. Parameters:\n",
    "\n",
    "- `annotation_path` - Path of _annotation_ file.\n",
    "\n",
    "`Variant` object to iterate through the parsed file. Parameters:\n",
    "\n",
    "- `path` - Path of _input_ file.\n",
    "- `annotation` - Annotation object which _input_ will be parsed.\n",
    "\n",
    "One of the main functions of _Variant_ is `read`. It will generate an iterator to scan the parsed file.\n",
    "\n",
    "`save` function parameters:\n",
    "\n",
    "- `file_path` - Path where file will be saved.\n",
    "- `mode` - Mode to write the _output_.\n",
    "    - `a` - The cursor starts at the end of the file.\n",
    "    - `w` - The cursor starts at the begging of the file.\n",
    "- `display_header` - It will write the headers on the _output_ file.\n",
    "\n",
    "\n",
    "In this example, it will save the parsed input in an _output_ file."
   ],
   "metadata": {
    "collapsed": false,
    "pycharm": {
     "name": "#%% md\n"
    }
   }
  },
  {
   "cell_type": "code",
   "execution_count": 2,
   "outputs": [],
   "source": [
    "annotation = Annotation(annotation_file)\n",
    "result = Variant(dataset_file, annotation)\n",
    "\n",
    "output_file = f'{dirname(getcwd())}/datasets/sample1/output.tsv'\n",
    "result.save(file_path=output_file, display_header=True)"
   ],
   "metadata": {
    "collapsed": false,
    "pycharm": {
     "name": "#%%\n"
    }
   }
  },
  {
   "cell_type": "markdown",
   "source": [
    "It is also possible to combine `save` function with `findfiles` which will find any file and then save the parsed output appending it in a single file."
   ],
   "metadata": {
    "collapsed": false,
    "pycharm": {
     "name": "#%% md\n"
    }
   }
  },
  {
   "cell_type": "code",
   "execution_count": 3,
   "outputs": [],
   "source": [
    "from openvariant import findfiles\n",
    "\n",
    "output_file_append = f'{dirname(getcwd())}/datasets/sample1/output_append.tsv'\n",
    "\n",
    "annotation_file = f'{dirname(getcwd())}/datasets/sample1/annotation_maf.yaml'\n",
    "annotation = Annotation(annotation_file)\n",
    "\n",
    "dataset_folder = f'{dirname(getcwd())}/datasets/sample1'\n",
    "\n",
    "for file_path, _ in findfiles(dataset_folder):\n",
    "    result = Variant(file_path, annotation)\n",
    "\n",
    "    try:\n",
    "        result.save(output_file_append, mode=\"a\")\n",
    "    except NameError:\n",
    "        pass"
   ],
   "metadata": {
    "collapsed": false,
    "pycharm": {
     "name": "#%%\n"
    }
   }
  },
  {
   "cell_type": "markdown",
   "source": [],
   "metadata": {
    "collapsed": false,
    "pycharm": {
     "name": "#%% md\n"
    }
   }
  }
 ],
 "metadata": {
  "kernelspec": {
   "display_name": "Python 3",
   "language": "python",
   "name": "python3"
  },
  "language_info": {
   "codemirror_mode": {
    "name": "ipython",
    "version": 2
   },
   "file_extension": ".py",
   "mimetype": "text/x-python",
   "name": "python",
   "nbconvert_exporter": "python",
   "pygments_lexer": "ipython2",
   "version": "2.7.6"
  }
 },
 "nbformat": 4,
 "nbformat_minor": 0
}