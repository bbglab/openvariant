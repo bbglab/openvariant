{
 "cells": [
  {
   "cell_type": "markdown",
   "source": [
    "# Save"
   ],
   "metadata": {
    "collapsed": false,
    "pycharm": {
     "name": "#%% md\n"
    }
   }
  },
  {
   "cell_type": "markdown",
   "source": [
    "Simple example on how **Variant** can save the output.\n"
   ],
   "metadata": {
    "collapsed": false,
    "pycharm": {
     "name": "#%% md\n"
    }
   }
  },
  {
   "cell_type": "code",
   "execution_count": 2,
   "outputs": [],
   "source": [
    "from os import getcwd\n",
    "from os.path import dirname\n",
    "from openvariant import Annotation, Variant\n",
    "\n",
    "dataset_file = f'{dirname(getcwd())}/datasets/sample1/22f5b2f.wxs.maf.gz'\n",
    "annotation_file = f'{dirname(getcwd())}/datasets/sample1/annotation_maf.yaml'\n",
    "\n",
    "annotation = Annotation(annotation_file)\n",
    "result = Variant(dataset_file, annotation)\n",
    "\n",
    "output_file = f'{dirname(getcwd())}/datasets/sample1/output.tsv'\n",
    "result.save(output_file, display_header=True)"
   ],
   "metadata": {
    "collapsed": false,
    "pycharm": {
     "name": "#%%\n"
    }
   }
  },
  {
   "cell_type": "code",
   "execution_count": null,
   "outputs": [],
   "source": [
    "from os.path import basename\n",
    "from openvariant import find_files\n",
    "\n",
    "output_file_append = f'{dirname(getcwd())}/datasets/sample1/output_2.tsv'\n",
    "\n",
    "dataset_file = f'{dirname(getcwd())}/datasets/sample1/22f5b2f.wxs.maf.gz'\n",
    "annotation_file = f'{dirname(getcwd())}/datasets/sample1/annotation_maf.yaml'\n",
    "\n",
    "annotation = Annotation(annotation_file)\n",
    "result = Variant(dataset_file, annotation)\n",
    "\n",
    "\n",
    "dataset_folder = f'{dirname(getcwd())}/datasets/sample1'\n",
    "\n",
    "for file_path, _ in find_files(dataset_folder):\n",
    "    result = Variant(file_path, annotation)\n",
    "\n",
    "    n_line = 1\n",
    "    print('File: ', basename(file_path), '\\n')\n",
    "    result.save(output_file_append, a)"
   ],
   "metadata": {
    "collapsed": false,
    "pycharm": {
     "name": "#%%\n"
    }
   }
  },
  {
   "cell_type": "markdown",
   "source": [],
   "metadata": {
    "collapsed": false,
    "pycharm": {
     "name": "#%% md\n"
    }
   }
  }
 ],
 "metadata": {
  "kernelspec": {
   "display_name": "Python 3",
   "language": "python",
   "name": "python3"
  },
  "language_info": {
   "codemirror_mode": {
    "name": "ipython",
    "version": 2
   },
   "file_extension": ".py",
   "mimetype": "text/x-python",
   "name": "python",
   "nbconvert_exporter": "python",
   "pygments_lexer": "ipython2",
   "version": "2.7.6"
  }
 },
 "nbformat": 4,
 "nbformat_minor": 0
}