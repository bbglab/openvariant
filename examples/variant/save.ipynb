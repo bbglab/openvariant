{
 "cells": [
  {
   "cell_type": "markdown",
   "source": [
    "# Save"
   ],
   "metadata": {
    "collapsed": false,
    "pycharm": {
     "name": "#%% md\n"
    }
   }
  },
  {
   "cell_type": "markdown",
   "source": [
    "Simple example on how **Variant** can save the output.\n"
   ],
   "metadata": {
    "collapsed": false,
    "pycharm": {
     "name": "#%% md\n"
    }
   }
  },
  {
   "cell_type": "code",
   "execution_count": 1,
   "outputs": [],
   "source": [
    "from os import getcwd\n",
    "from os.path import dirname\n",
    "from openvariant import Annotation, Variant\n",
    "\n",
    "dataset_file = f'{dirname(getcwd())}/datasets/sample1/22f5b2f.wxs.maf.gz'\n",
    "annotation_file = f'{dirname(getcwd())}/datasets/sample1/annotation_maf.yaml'\n",
    "\n",
    "annotation = Annotation(annotation_file)\n",
    "result = Variant(dataset_file, annotation)\n",
    "\n",
    "output_file = f'{dirname(getcwd())}/datasets/sample1/output.tsv'\n",
    "result.save(output_file, display_header=True)"
   ],
   "metadata": {
    "collapsed": false,
    "pycharm": {
     "name": "#%%\n"
    }
   }
  },
  {
   "cell_type": "code",
   "execution_count": 3,
   "outputs": [
    {
     "name": "stdout",
     "output_type": "stream",
     "text": [
      "Line in a dict: {'POSITION': '65872', 'DATASET': '5a3a743', 'SAMPLE': 'SAMPLE1', 'STRAND_REF': 'POS', 'PLATFORM': 'WGS'}\n",
      "File:  5a3a743.wxs.maf.gz \n",
      "\n",
      "Line in a dict: {'POSITION': '16963', 'DATASET': '22f5b2f', 'SAMPLE': 'SAMPLE1', 'STRAND_REF': 'POS', 'PLATFORM': 'WGS'}\n",
      "File:  22f5b2f.wxs.maf.gz \n",
      "\n",
      "Line in a dict: {'POSITION': '10267', 'DATASET': '345c90e.raw_somatic_muta', 'SAMPLE': 'SAMPLE1', 'STRAND_REF': 'POS', 'PLATFORM': 'WGS'}\n",
      "File:  345c90e.raw_somatic_mutation.vcf.gz \n",
      "\n",
      "Line in a dict: {'POSITION': '10105', 'DATASET': 'de46011.raw_somatic_muta', 'SAMPLE': 'SAMPLE1', 'STRAND_REF': 'POS', 'PLATFORM': 'WGS'}\n",
      "File:  de46011.raw_somatic_mutation.vcf.gz \n",
      "\n",
      "Line in a dict: {'POSITION': '10033', 'DATASET': '3a70e22.raw_somatic_muta', 'SAMPLE': 'SAMPLE1_1', 'STRAND_REF': 'POS', 'PLATFORM': 'WGS'}\n",
      "File:  3a70e22.raw_somatic_mutation.vcf.gz \n",
      "\n",
      "Line in a dict: {'POSITION': '10105', 'DATASET': '4c0b87e.raw_somatic_muta', 'SAMPLE': 'SAMPLE1_1', 'STRAND_REF': 'POS', 'PLATFORM': 'WGS'}\n",
      "File:  4c0b87e.raw_somatic_mutation.vcf.gz \n",
      "\n"
     ]
    }
   ],
   "source": [
    "from os.path import basename\n",
    "from openvariant import find_files\n",
    "\n",
    "output_file_append = f'{dirname(getcwd())}/datasets/sample1/output_2.tsv'\n",
    "\n",
    "dataset_file = f'{dirname(getcwd())}/datasets/sample1/22f5b2f.wxs.maf.gz'\n",
    "annotation_file = f'{dirname(getcwd())}/datasets/sample1/annotation_maf.yaml'\n",
    "\n",
    "annotation = Annotation(annotation_file)\n",
    "result = Variant(dataset_file, annotation)\n",
    "\n",
    "\n",
    "dataset_folder = f'{dirname(getcwd())}/datasets/sample1'\n",
    "\n",
    "for file_path, _ in find_files(dataset_folder):\n",
    "    result = Variant(file_path, annotation)\n",
    "\n",
    "    n_line = 1\n",
    "    for n_line, line in enumerate(result.read()):\n",
    "        if n_line == 0:\n",
    "            print(f\"Line in a dict: {line}\")\n",
    "        else:\n",
    "            break\n",
    "\n",
    "    print('File: ', basename(file_path), '\\n')\n",
    "    result.save(output_file_append, mode=\"a\")"
   ],
   "metadata": {
    "collapsed": false,
    "pycharm": {
     "name": "#%%\n"
    }
   }
  },
  {
   "cell_type": "markdown",
   "source": [],
   "metadata": {
    "collapsed": false,
    "pycharm": {
     "name": "#%% md\n"
    }
   }
  }
 ],
 "metadata": {
  "kernelspec": {
   "display_name": "Python 3",
   "language": "python",
   "name": "python3"
  },
  "language_info": {
   "codemirror_mode": {
    "name": "ipython",
    "version": 2
   },
   "file_extension": ".py",
   "mimetype": "text/x-python",
   "name": "python",
   "nbconvert_exporter": "python",
   "pygments_lexer": "ipython2",
   "version": "2.7.6"
  }
 },
 "nbformat": 4,
 "nbformat_minor": 0
}