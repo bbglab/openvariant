{
 "cells": [
  {
   "cell_type": "markdown",
   "source": [
    "# Read"
   ],
   "metadata": {
    "collapsed": false,
    "pycharm": {
     "name": "#%% md\n"
    }
   }
  },
  {
   "cell_type": "markdown",
   "source": [
    "Simple example on how find files task works for a directory path."
   ],
   "metadata": {
    "collapsed": false,
    "pycharm": {
     "name": "#%% md\n"
    }
   }
  },
  {
   "cell_type": "code",
   "execution_count": null,
   "outputs": [],
   "source": [
    "from os import getcwd\n",
    "from os.path import dirname\n",
    "from openvariant import Annotation, Variant\n",
    "\n",
    "dataset_file = f'{dirname(getcwd())}/datasets/sample1/22f5b2f.wxs.maf.gz'\n",
    "annotation_file = f'{dirname(getcwd())}/datasets/sample1/annotation_maf.yaml'"
   ],
   "metadata": {
    "collapsed": false,
    "pycharm": {
     "name": "#%%\n"
    }
   }
  },
  {
   "cell_type": "code",
   "execution_count": null,
   "outputs": [],
   "source": [
    "annotation = Annotation(annotation_file)\n",
    "result = Variant(dataset_file, annotation)\n",
    "number_lines = 10\n",
    "for line in result.read():\n",
    "    if number_lines != 0:\n",
    "        print(f\"Line in a dict: {line}\")\n",
    "        number_lines -= 1"
   ],
   "metadata": {
    "collapsed": false,
    "pycharm": {
     "name": "#%%\n"
    }
   }
  },
  {
   "cell_type": "code",
   "execution_count": null,
   "outputs": [],
   "source": [],
   "metadata": {
    "collapsed": false,
    "pycharm": {
     "name": "#%%\n"
    }
   }
  },
  {
   "cell_type": "code",
   "execution_count": 1,
   "outputs": [],
   "source": [
    "from os import getcwd\n",
    "from os.path import dirname\n",
    "from openvariant import Annotation, Variant\n",
    "\n",
    "dataset_file = f'{dirname(getcwd())}/datasets/sample1/22f5b2f.wxs.maf.gz'\n",
    "annotation_file = f'{dirname(getcwd())}/datasets/sample1/annotation_maf.yaml'"
   ],
   "metadata": {
    "collapsed": false,
    "pycharm": {
     "name": "#%%\n"
    }
   }
  },
  {
   "cell_type": "code",
   "execution_count": 12,
   "outputs": [
    {
     "ename": "KeyError",
     "evalue": "'STRAND_ID'",
     "output_type": "error",
     "traceback": [
      "\u001B[0;31m---------------------------------------------------------------------------\u001B[0m",
      "\u001B[0;31mKeyError\u001B[0m                                  Traceback (most recent call last)",
      "Input \u001B[0;32mIn [12]\u001B[0m, in \u001B[0;36m<cell line: 1>\u001B[0;34m()\u001B[0m\n\u001B[0;32m----> 1\u001B[0m annotation \u001B[38;5;241m=\u001B[39m \u001B[43mAnnotation\u001B[49m\u001B[43m(\u001B[49m\u001B[43mannotation_file\u001B[49m\u001B[43m)\u001B[49m\n\u001B[1;32m      2\u001B[0m result \u001B[38;5;241m=\u001B[39m Variant(dataset_file, annotation)\n\u001B[1;32m      3\u001B[0m number_lines \u001B[38;5;241m=\u001B[39m \u001B[38;5;241m10\u001B[39m\n",
      "File \u001B[0;32m~/openvariant/openvariant/annotation/annotation.py:170\u001B[0m, in \u001B[0;36mAnnotation.__init__\u001B[0;34m(self, annotation_path)\u001B[0m\n\u001B[1;32m    166\u001B[0m \u001B[38;5;28mself\u001B[39m\u001B[38;5;241m.\u001B[39m_annotations: \u001B[38;5;28mdict\u001B[39m \u001B[38;5;241m=\u001B[39m {}\n\u001B[1;32m    167\u001B[0m \u001B[38;5;28;01mfor\u001B[39;00m k \u001B[38;5;129;01min\u001B[39;00m raw_annotation\u001B[38;5;241m.\u001B[39mget(AnnotationGeneralKeys\u001B[38;5;241m.\u001B[39mANNOTATION\u001B[38;5;241m.\u001B[39mvalue, []):\n\u001B[1;32m    169\u001B[0m     \u001B[38;5;28mself\u001B[39m\u001B[38;5;241m.\u001B[39m_annotations[k[AnnotationKeys\u001B[38;5;241m.\u001B[39mFIELD\u001B[38;5;241m.\u001B[39mvalue]] \u001B[38;5;241m=\u001B[39m \\\n\u001B[0;32m--> 170\u001B[0m         \u001B[43mAnnotationTypesBuilders\u001B[49m\u001B[43m[\u001B[49m\u001B[43mk\u001B[49m\u001B[43m[\u001B[49m\u001B[43mAnnotationKeys\u001B[49m\u001B[38;5;241;43m.\u001B[39;49m\u001B[43mTYPE\u001B[49m\u001B[38;5;241;43m.\u001B[39;49m\u001B[43mvalue\u001B[49m\u001B[43m]\u001B[49m\u001B[38;5;241;43m.\u001B[39;49m\u001B[43mupper\u001B[49m\u001B[43m(\u001B[49m\u001B[43m)\u001B[49m\u001B[43m]\u001B[49m\u001B[38;5;241;43m.\u001B[39;49m\u001B[43mvalue\u001B[49m\u001B[43m(\u001B[49m\u001B[43mk\u001B[49m\u001B[43m,\u001B[49m\u001B[43m \u001B[49m\u001B[38;5;28;43mself\u001B[39;49m\u001B[38;5;241;43m.\u001B[39;49m\u001B[43m_path\u001B[49m\u001B[43m)\u001B[49m\n\u001B[1;32m    172\u001B[0m \u001B[38;5;28mself\u001B[39m\u001B[38;5;241m.\u001B[39m_columns \u001B[38;5;241m=\u001B[39m raw_annotation\u001B[38;5;241m.\u001B[39mget(AnnotationGeneralKeys\u001B[38;5;241m.\u001B[39mCOLUMNS\u001B[38;5;241m.\u001B[39mvalue, \u001B[38;5;28mlist\u001B[39m(\u001B[38;5;28mself\u001B[39m\u001B[38;5;241m.\u001B[39mannotations\u001B[38;5;241m.\u001B[39mkeys()))\n\u001B[1;32m    173\u001B[0m \u001B[38;5;28mself\u001B[39m\u001B[38;5;241m.\u001B[39m_check_columns()\n",
      "File \u001B[0;32m~/openvariant/openvariant/annotation/builder.py:220\u001B[0m, in \u001B[0;36m_mapping_builder\u001B[0;34m(x, base_path)\u001B[0m\n\u001B[1;32m    218\u001B[0m \u001B[38;5;28;01mwith\u001B[39;00m open_method(mapping_file, \u001B[38;5;124m\"\u001B[39m\u001B[38;5;124mrt\u001B[39m\u001B[38;5;124m\"\u001B[39m) \u001B[38;5;28;01mas\u001B[39;00m fd:\n\u001B[1;32m    219\u001B[0m     \u001B[38;5;28;01mfor\u001B[39;00m r \u001B[38;5;129;01min\u001B[39;00m csv\u001B[38;5;241m.\u001B[39mDictReader(fd, delimiter\u001B[38;5;241m=\u001B[39m\u001B[38;5;124m'\u001B[39m\u001B[38;5;130;01m\\t\u001B[39;00m\u001B[38;5;124m'\u001B[39m):\n\u001B[0;32m--> 220\u001B[0m         field \u001B[38;5;241m=\u001B[39m \u001B[43mr\u001B[49m\u001B[43m[\u001B[49m\u001B[43mx\u001B[49m\u001B[43m[\u001B[49m\u001B[43mAnnotationKeys\u001B[49m\u001B[38;5;241;43m.\u001B[39;49m\u001B[43mFIELD_MAPPING\u001B[49m\u001B[38;5;241;43m.\u001B[39;49m\u001B[43mvalue\u001B[49m\u001B[43m]\u001B[49m\u001B[43m]\u001B[49m\n\u001B[1;32m    221\u001B[0m         val \u001B[38;5;241m=\u001B[39m r[x[AnnotationKeys\u001B[38;5;241m.\u001B[39mFIELD_VALUE\u001B[38;5;241m.\u001B[39mvalue]]\n\u001B[1;32m    222\u001B[0m         values[field] \u001B[38;5;241m=\u001B[39m val\n",
      "\u001B[0;31mKeyError\u001B[0m: 'STRAND_ID'"
     ]
    }
   ],
   "source": [
    "annotation = Annotation(annotation_file)\n",
    "result = Variant(dataset_file, annotation)\n",
    "number_lines = 10\n",
    "for line in result.read():\n",
    "    if number_lines != 0:\n",
    "        print(f\"Line in a dict: {line}\")\n",
    "        number_lines -= 1"
   ],
   "metadata": {
    "collapsed": false,
    "pycharm": {
     "name": "#%%\n"
    }
   }
  },
  {
   "cell_type": "code",
   "execution_count": 11,
   "outputs": [],
   "source": [],
   "metadata": {
    "collapsed": false,
    "pycharm": {
     "name": "#%%\n"
    }
   }
  },
  {
   "cell_type": "code",
   "execution_count": null,
   "outputs": [],
   "source": [],
   "metadata": {
    "collapsed": false,
    "pycharm": {
     "name": "#%%\n"
    }
   }
  }
 ],
 "metadata": {
  "kernelspec": {
   "display_name": "Python 3",
   "language": "python",
   "name": "python3"
  },
  "language_info": {
   "codemirror_mode": {
    "name": "ipython",
    "version": 2
   },
   "file_extension": ".py",
   "mimetype": "text/x-python",
   "name": "python",
   "nbconvert_exporter": "python",
   "pygments_lexer": "ipython2",
   "version": "2.7.6"
  }
 },
 "nbformat": 4,
 "nbformat_minor": 0
}