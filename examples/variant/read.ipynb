{
 "cells": [
  {
   "cell_type": "markdown",
   "source": [
    "# Read"
   ],
   "metadata": {
    "collapsed": false,
    "pycharm": {
     "name": "#%% md\n"
    }
   }
  },
  {
   "cell_type": "markdown",
   "source": [
    "A simple example on how **Variant** can read and how can be treated."
   ],
   "metadata": {
    "collapsed": false,
    "pycharm": {
     "name": "#%% md\n"
    }
   }
  },
  {
   "cell_type": "code",
   "execution_count": 1,
   "outputs": [],
   "source": [
    "from os import getcwd\n",
    "from os.path import dirname\n",
    "from openvariant import Annotation, Variant\n",
    "\n",
    "dataset_file = f'{dirname(getcwd())}/datasets/sample1/22f5b2f.wxs.maf.gz'\n",
    "annotation_file = f'{dirname(getcwd())}/datasets/sample1/annotation_maf.yaml'"
   ],
   "metadata": {
    "collapsed": false,
    "pycharm": {
     "name": "#%%\n"
    }
   }
  },
  {
   "cell_type": "markdown",
   "source": [
    "`Annotation` object generated from _annotation_ file. Parameters:\n",
    "\n",
    "- `annotation_path` - Path of _annotation_ file.\n",
    "\n",
    "`Variant` object to iterate through the parsed file. Parameters:\n",
    "\n",
    "- `path` - Path of _input_ file.\n",
    "- `annotation` - Annotation object which _input_ will be parsed.\n",
    "\n",
    "One of the main functions of _Variant_ is `read`.It will generate an iterator to scan the parsed file.\n",
    "\n",
    "`read` function parameters:\n",
    "\n",
    "- `where` - Filter expression.\n",
    "- `group_key` - Key to group rows.\n",
    "\n",
    "\n",
    "In this example, it will get the 10 first lines of parsed files through an _annotation_ file."
   ],
   "metadata": {
    "collapsed": false,
    "pycharm": {
     "name": "#%% md\n"
    }
   }
  },
  {
   "cell_type": "code",
   "execution_count": 2,
   "outputs": [
    {
     "name": "stdout",
     "output_type": "stream",
     "text": [
      "Line 0: {'POSITION': '16963', 'DATASET': '22f5b2f', 'SAMPLE': 'SAMPLE1', 'STRAND_REF': 'POS', 'PLATFORM': 'WGS'}\n",
      "Line 1: {'POSITION': '17691', 'DATASET': '22f5b2f', 'SAMPLE': 'SAMPLE1', 'STRAND_REF': 'POS', 'PLATFORM': 'WGS'}\n",
      "Line 2: {'POSITION': '98933', 'DATASET': '22f5b2f', 'SAMPLE': 'SAMPLE1', 'STRAND_REF': 'POS', 'PLATFORM': 'WGS'}\n",
      "Line 3: {'POSITION': '139058', 'DATASET': '22f5b2f', 'SAMPLE': 'SAMPLE1', 'STRAND_REF': 'POS', 'PLATFORM': 'WGS'}\n",
      "Line 4: {'POSITION': '186112', 'DATASET': '22f5b2f', 'SAMPLE': 'SAMPLE1', 'STRAND_REF': 'POS', 'PLATFORM': 'WGS'}\n",
      "Line 5: {'POSITION': '187146', 'DATASET': '22f5b2f', 'SAMPLE': 'SAMPLE1', 'STRAND_REF': 'POS', 'PLATFORM': 'WGS'}\n",
      "Line 6: {'POSITION': '187153', 'DATASET': '22f5b2f', 'SAMPLE': 'SAMPLE1', 'STRAND_REF': 'POS', 'PLATFORM': 'WGS'}\n",
      "Line 7: {'POSITION': '187264', 'DATASET': '22f5b2f', 'SAMPLE': 'SAMPLE1', 'STRAND_REF': 'POS', 'PLATFORM': 'WGS'}\n",
      "Line 8: {'POSITION': '187323', 'DATASET': '22f5b2f', 'SAMPLE': 'SAMPLE1', 'STRAND_REF': 'POS', 'PLATFORM': 'WGS'}\n",
      "Line 9: {'POSITION': '187363', 'DATASET': '22f5b2f', 'SAMPLE': 'SAMPLE1', 'STRAND_REF': 'POS', 'PLATFORM': 'WGS'}\n"
     ]
    }
   ],
   "source": [
    "annotation = Annotation(annotation_path=annotation_file)\n",
    "result = Variant(path=dataset_file, annotation=annotation)\n",
    "\n",
    "for n_line, line in enumerate(result.read()):\n",
    "    print(f'Line {n_line}: {line}')\n",
    "    if n_line == 9:\n",
    "        break"
   ],
   "metadata": {
    "collapsed": false,
    "pycharm": {
     "name": "#%%\n"
    }
   }
  },
  {
   "cell_type": "markdown",
   "source": [
    "As we can see in the output each line is a `dict` where the `key` is the field of the parsed result and the `value` is the value in that cell.\n",
    "\n",
    "**Variant** has different attributes than we can explore:"
   ],
   "metadata": {
    "collapsed": false,
    "pycharm": {
     "name": "#%% md\n"
    }
   }
  },
  {
   "cell_type": "code",
   "execution_count": 3,
   "outputs": [
    {
     "name": "stdout",
     "output_type": "stream",
     "text": [
      "Headers:  ['POSITION', 'DATASET', 'SAMPLE', 'STRAND_REF', 'PLATFORM']\n",
      "Input file:  /home/dmartinez/openvariant/examples/datasets/sample1/22f5b2f.wxs.maf.gz\n"
     ]
    }
   ],
   "source": [
    "print('Headers: ', result.header)\n",
    "print('Input file: ', result.path)"
   ],
   "metadata": {
    "collapsed": false,
    "pycharm": {
     "name": "#%%\n"
    }
   }
  },
  {
   "cell_type": "markdown",
   "source": [
    "Also, we can check the _Annotation_ which input file was parsed.\n",
    "\n",
    "+ _Annotation_ file path - `path`\n",
    "+ Format - `format`\n",
    "+ Annotations - `annotations`\n",
    "+ Columns - `columns`\n",
    "+ Delimiter - `delimiter`\n",
    "+ Excludes - `excludes`\n",
    "+ Patterns - `patterns`\n",
    "+ Structure - `structure`"
   ],
   "metadata": {
    "collapsed": false,
    "pycharm": {
     "name": "#%% md\n"
    }
   }
  },
  {
   "cell_type": "code",
   "execution_count": 4,
   "outputs": [
    {
     "name": "stdout",
     "output_type": "stream",
     "text": [
      "{'PLATFORM': ('STATIC', 'WGS'), 'POSITION': ('INTERNAL', ['Position', 'Start', 'Start_Position', 'Pos', 'Chromosome_Start', 'POS'], <openvariant.annotation.builder.Builder object at 0x7fa8bc0b3b20>, nan), 'DATASET': ('FILENAME', <openvariant.annotation.builder.Builder object at 0x7fa8bc0b3940>, re.compile('(.*)')), 'SAMPLE': ('DIRNAME', <openvariant.annotation.builder.Builder object at 0x7fa8bc0b3520>, re.compile('(.*)')), 'STRAND': ('INTERNAL', ['Strand', 'Chromosome_Strand', ''], <openvariant.annotation.builder.Builder object at 0x7fa8bc0b3310>, nan), 'STRAND_REF': ('MAPPING', ['STRAND'], {'+': 'POS', '-': 'NEG'})}\n"
     ]
    }
   ],
   "source": [
    "print(result.annotation.annotations)"
   ],
   "metadata": {
    "collapsed": false,
    "pycharm": {
     "name": "#%%\n"
    }
   }
  },
  {
   "cell_type": "markdown",
   "source": [
    "One of the parameter to `read` function is `where`. You will be able to apply a conditional filter. The possible operations can be:\n",
    "\n",
    "+ `==` - Equal.\n",
    "+ `!=` - Not equal.\n",
    "+ `<=` - Less or equal than.\n",
    "+ `<` - Less than.\n",
    "+ `>=` - More or equal than.\n",
    "+ `>` - More than.\n",
    "\n",
    "One example of this parameter is the following one:"
   ],
   "metadata": {
    "collapsed": false,
    "pycharm": {
     "name": "#%% md\n"
    }
   }
  },
  {
   "cell_type": "code",
   "execution_count": 5,
   "outputs": [
    {
     "name": "stdout",
     "output_type": "stream",
     "text": [
      "{'POSITION': '186112', 'DATASET': '22f5b2f', 'SAMPLE': 'SAMPLE1', 'STRAND_REF': 'POS', 'PLATFORM': 'WGS'}\n"
     ]
    }
   ],
   "source": [
    "annotation = Annotation(annotation_path=annotation_file)\n",
    "result = Variant(path=dataset_file, annotation=annotation)\n",
    "\n",
    "for n_line, line in enumerate(result.read(where=\"POSITION == 186112\")):\n",
    "    print(f'{line}')"
   ],
   "metadata": {
    "collapsed": false,
    "pycharm": {
     "name": "#%%\n"
    }
   }
  },
  {
   "cell_type": "markdown",
   "source": [
    "Also, `read` allows `group_key` as a parameter which it will group rows depending on its value."
   ],
   "metadata": {
    "collapsed": false,
    "pycharm": {
     "name": "#%% md\n"
    }
   }
  },
  {
   "cell_type": "markdown",
   "source": [
    "**Variant** can be combined with `findfiles` as it shows the following example. It will print the 3 first lines of each input file."
   ],
   "metadata": {
    "collapsed": false,
    "pycharm": {
     "name": "#%% md\n"
    }
   }
  },
  {
   "cell_type": "code",
   "execution_count": 6,
   "outputs": [
    {
     "name": "stdout",
     "output_type": "stream",
     "text": [
      "File:  5a3a743.wxs.maf.gz \n",
      "\n",
      "Line 0: {'POSITION': '65872', 'DATASET': '5a3a743', 'SAMPLE': 'SAMPLE1', 'STRAND_REF': 'POS', 'PLATFORM': 'WGS'}\n",
      "Line 1: {'POSITION': '131628', 'DATASET': '5a3a743', 'SAMPLE': 'SAMPLE1', 'STRAND_REF': 'POS', 'PLATFORM': 'WGS'}\n",
      "Line 2: {'POSITION': '183697', 'DATASET': '5a3a743', 'SAMPLE': 'SAMPLE1', 'STRAND_REF': 'POS', 'PLATFORM': 'WGS'}\n",
      "\n",
      "\n",
      "File:  22f5b2f.wxs.maf.gz \n",
      "\n",
      "Line 0: {'POSITION': '16963', 'DATASET': '22f5b2f', 'SAMPLE': 'SAMPLE1', 'STRAND_REF': 'POS', 'PLATFORM': 'WGS'}\n",
      "Line 1: {'POSITION': '17691', 'DATASET': '22f5b2f', 'SAMPLE': 'SAMPLE1', 'STRAND_REF': 'POS', 'PLATFORM': 'WGS'}\n",
      "Line 2: {'POSITION': '98933', 'DATASET': '22f5b2f', 'SAMPLE': 'SAMPLE1', 'STRAND_REF': 'POS', 'PLATFORM': 'WGS'}\n",
      "\n",
      "\n",
      "File:  345c90e.raw_somatic_mutation.vcf.gz \n",
      "\n",
      "Line 0: {'POSITION': '10267', 'DATASET': '345c90e', 'PLATFORM': 'WGS', 'INFO': 'WGS:T_C'}\n",
      "Line 1: {'POSITION': '10273', 'DATASET': '345c90e', 'PLATFORM': 'WGS', 'INFO': 'WGS:T_C'}\n",
      "Line 2: {'POSITION': '10321', 'DATASET': '345c90e', 'PLATFORM': 'WGS', 'INFO': 'WGS:C_T'}\n",
      "\n",
      "\n",
      "File:  de46011.raw_somatic_mutation.vcf.gz \n",
      "\n",
      "Line 0: {'POSITION': '10105', 'DATASET': 'de46011', 'PLATFORM': 'WGS', 'INFO': 'WGS:A_C'}\n",
      "Line 1: {'POSITION': '10381', 'DATASET': 'de46011', 'PLATFORM': 'WGS', 'INFO': 'WGS:T_C'}\n",
      "Line 2: {'POSITION': '10438', 'DATASET': 'de46011', 'PLATFORM': 'WGS', 'INFO': 'WGS:A_T'}\n",
      "\n",
      "\n",
      "File:  3a70e22.raw_somatic_mutation.vcf.gz \n",
      "\n",
      "Line 0: {'POSITION': '10033', 'DATASET': '3a70e22', 'PLATFORM': 'WGS', 'INFO': 'WGS:A_C'}\n",
      "Line 1: {'POSITION': '10075', 'DATASET': '3a70e22', 'PLATFORM': 'WGS', 'INFO': 'WGS:A_C'}\n",
      "Line 2: {'POSITION': '10087', 'DATASET': '3a70e22', 'PLATFORM': 'WGS', 'INFO': 'WGS:A_C'}\n",
      "\n",
      "\n",
      "File:  4c0b87e.raw_somatic_mutation.vcf.gz \n",
      "\n",
      "Line 0: {'POSITION': '10105', 'DATASET': '4c0b87e', 'PLATFORM': 'WGS', 'INFO': 'WGS:A_C'}\n",
      "Line 1: {'POSITION': '10241', 'DATASET': '4c0b87e', 'PLATFORM': 'WGS', 'INFO': 'WGS:T_C'}\n",
      "Line 2: {'POSITION': '10267', 'DATASET': '4c0b87e', 'PLATFORM': 'WGS', 'INFO': 'WGS:T_C'}\n",
      "\n",
      "\n"
     ]
    }
   ],
   "source": [
    "from os.path import basename\n",
    "from openvariant import findfiles\n",
    "\n",
    "dataset_folder = f'{dirname(getcwd())}/datasets/sample1'\n",
    "\n",
    "for file_path, annotation in findfiles(base_path=dataset_folder):\n",
    "    result = Variant(path=file_path, annotation=annotation)\n",
    "\n",
    "    n_line = 1\n",
    "    print('File: ', basename(file_path), '\\n')\n",
    "    for n_line, line in enumerate(result.read()):\n",
    "        print(f'Line {n_line}: {line}')\n",
    "        if n_line == 2:\n",
    "            print(\"\\n\")\n",
    "            break"
   ],
   "metadata": {
    "collapsed": false,
    "pycharm": {
     "name": "#%%\n"
    }
   }
  }
 ],
 "metadata": {
  "kernelspec": {
   "display_name": "Python 3",
   "language": "python",
   "name": "python3"
  },
  "language_info": {
   "codemirror_mode": {
    "name": "ipython",
    "version": 2
   },
   "file_extension": ".py",
   "mimetype": "text/x-python",
   "name": "python",
   "nbconvert_exporter": "python",
   "pygments_lexer": "ipython2",
   "version": "2.7.6"
  }
 },
 "nbformat": 4,
 "nbformat_minor": 0
}