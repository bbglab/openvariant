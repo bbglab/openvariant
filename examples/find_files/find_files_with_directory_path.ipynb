{
 "cells": [
  {
   "cell_type": "markdown",
   "metadata": {
    "pycharm": {
     "name": "#%% md\n"
    }
   },
   "source": [
    "# With directory path"
   ]
  },
  {
   "cell_type": "markdown",
   "source": [
    "Simple example on how find files task works for a directory path."
   ],
   "metadata": {
    "collapsed": false,
    "pycharm": {
     "name": "#%% md\n"
    }
   }
  },
  {
   "cell_type": "code",
   "execution_count": 1,
   "metadata": {
    "pycharm": {
     "name": "#%%\n"
    }
   },
   "outputs": [],
   "source": [
    "from os import getcwd\n",
    "from os.path import dirname\n",
    "from openvariant import find_files\n",
    "\n",
    "dataset_folder = f'{dirname(getcwd())}/datasets/sample1'"
   ]
  },
  {
   "cell_type": "markdown",
   "metadata": {
    "pycharm": {
     "name": "#%% md\n"
    }
   },
   "source": [
    "\n",
    "It will get any type of file that matches with any _annotation_ file that is on the same folder or on a child folder.\n",
    "\n",
    "As we see, the output has files with two types of pattern `*.vcf.gz` and `*.maf.gz`.\n"
   ]
  },
  {
   "cell_type": "code",
   "execution_count": 2,
   "outputs": [
    {
     "name": "stdout",
     "output_type": "stream",
     "text": [
      "File path: /home/dmartinez/openvariant/examples/datasets/sample1/5a3a743.wxs.maf.gz\n",
      "Annotation object: <openvariant.annotation.annotation.Annotation object at 0x7f39b8ebbc10>\n",
      "-------------------------------------\n",
      "File path: /home/dmartinez/openvariant/examples/datasets/sample1/22f5b2f.wxs.maf.gz\n",
      "Annotation object: <openvariant.annotation.annotation.Annotation object at 0x7f39b8ebbc10>\n",
      "-------------------------------------\n",
      "File path: /home/dmartinez/openvariant/examples/datasets/sample1/345c90e.raw_somatic_mutation.vcf.gz\n",
      "Annotation object: <openvariant.annotation.annotation.Annotation object at 0x7f39b860f580>\n",
      "-------------------------------------\n",
      "File path: /home/dmartinez/openvariant/examples/datasets/sample1/de46011.raw_somatic_mutation.vcf.gz\n",
      "Annotation object: <openvariant.annotation.annotation.Annotation object at 0x7f39b860f580>\n",
      "-------------------------------------\n",
      "File path: /home/dmartinez/openvariant/examples/datasets/sample1/sample1_1/3a70e22.raw_somatic_mutation.vcf.gz\n",
      "Annotation object: <openvariant.annotation.annotation.Annotation object at 0x7f39b860f580>\n",
      "-------------------------------------\n",
      "File path: /home/dmartinez/openvariant/examples/datasets/sample1/sample1_1/4c0b87e.raw_somatic_mutation.vcf.gz\n",
      "Annotation object: <openvariant.annotation.annotation.Annotation object at 0x7f39b860f580>\n",
      "-------------------------------------\n"
     ]
    }
   ],
   "source": [
    "for file_path, annotation in find_files(dataset_folder):\n",
    "    print(f'File path: {file_path}')\n",
    "    print(f'Annotation object: {annotation}')\n",
    "    print(\"-------------------------------------\")"
   ],
   "metadata": {
    "collapsed": false,
    "pycharm": {
     "name": "#%%\n"
    }
   }
  },
  {
   "cell_type": "markdown",
   "source": [
    "On the following example we will get files with a fixed _Annotation_ file.\n",
    "\n",
    "All the files that we will be able to detect will follow pattern described on annotations."
   ],
   "metadata": {
    "collapsed": false,
    "pycharm": {
     "name": "#%% md\n"
    }
   }
  },
  {
   "cell_type": "code",
   "execution_count": 3,
   "outputs": [
    {
     "name": "stdout",
     "output_type": "stream",
     "text": [
      "File path: /home/dmartinez/openvariant/examples/datasets/sample1/5a3a743.wxs.maf.gz\n",
      "Annotation object: <openvariant.annotation.annotation.Annotation object at 0x7f39b8304fa0>\n",
      "-------------------------------------\n",
      "File path: /home/dmartinez/openvariant/examples/datasets/sample1/22f5b2f.wxs.maf.gz\n",
      "Annotation object: <openvariant.annotation.annotation.Annotation object at 0x7f39b8304fa0>\n",
      "-------------------------------------\n"
     ]
    }
   ],
   "source": [
    "annotation_file = f'{dirname(getcwd())}/datasets/sample1/annotation_maf.yaml'\n",
    "\n",
    "for file_path, annotation in find_files(dataset_folder, annotation_file):\n",
    "    print(f'File path: {file_path}')\n",
    "    print(f'Annotation object: {annotation}')\n",
    "    print(\"-------------------------------------\")"
   ],
   "metadata": {
    "collapsed": false,
    "pycharm": {
     "name": "#%%\n"
    }
   }
  }
 ],
 "metadata": {
  "celltoolbar": "Tags",
  "kernelspec": {
   "display_name": "Python 3 (ipykernel)",
   "language": "python",
   "name": "python3"
  },
  "language_info": {
   "codemirror_mode": {
    "name": "ipython",
    "version": 3
   },
   "file_extension": ".py",
   "mimetype": "text/x-python",
   "name": "python",
   "nbconvert_exporter": "python",
   "pygments_lexer": "ipython3",
   "version": "3.8.12"
  }
 },
 "nbformat": 4,
 "nbformat_minor": 1
}