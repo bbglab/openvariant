{
 "cells": [
  {
   "cell_type": "markdown",
   "source": [
    "# With directory path"
   ],
   "metadata": {
    "collapsed": false,
    "pycharm": {
     "name": "#%% md\n"
    }
   }
  },
  {
   "cell_type": "code",
   "execution_count": 16,
   "outputs": [],
   "source": [
    "from os import getcwd\n",
    "from os.path import dirname\n",
    "from openvariant import find_files"
   ],
   "metadata": {
    "collapsed": false,
    "pycharm": {
     "name": "#%%\n"
    }
   }
  },
  {
   "cell_type": "markdown",
   "source": [
    "It will get any type of file that matches with any annotation file that is on the same folder or on a child folder.\n",
    "Also, as we see, the output"
   ],
   "metadata": {
    "collapsed": false,
    "pycharm": {
     "name": "#%% md\n"
    }
   }
  },
  {
   "cell_type": "code",
   "execution_count": 17,
   "outputs": [
    {
     "name": "stdout",
     "output_type": "stream",
     "text": [
      "Path file: /home/dmartinez/openvariant/examples/datasets/sample1/5a3a743.wxs.maf.gz\n",
      "Annotation object: <openvariant.annotation.annotation.Annotation object at 0x7ff0607efc70>\n",
      "-------------------------------------\n",
      "Path file: /home/dmartinez/openvariant/examples/datasets/sample1/a6b56d62-a35c-47d1-8c64-c5bab4e4f235.wxs.MuTect2.aliquot.maf.gz\n",
      "Annotation object: <openvariant.annotation.annotation.Annotation object at 0x7ff07035cac0>\n",
      "-------------------------------------\n",
      "Path file: /home/dmartinez/openvariant/examples/datasets/sample1/22f5b2f.wxs.maf.gz\n",
      "Annotation object: <openvariant.annotation.annotation.Annotation object at 0x7ff07035c1f0>\n",
      "-------------------------------------\n",
      "3\n"
     ]
    }
   ],
   "source": [
    "dataset_folder = f'{dirname(getcwd())}/datasets/sample1'\n",
    "\n",
    "x = 0\n",
    "for file_path, annotation in find_files(dataset_folder):\n",
    "    print(f'Path file: {file_path}')\n",
    "    print(f'Annotation object: {annotation}')\n",
    "    print(\"-------------------------------------\")\n",
    "    x += 1\n",
    "print(x)"
   ],
   "metadata": {
    "collapsed": false,
    "pycharm": {
     "name": "#%%\n"
    }
   }
  },
  {
   "cell_type": "code",
   "execution_count": null,
   "outputs": [],
   "source": [],
   "metadata": {
    "collapsed": false,
    "pycharm": {
     "name": "#%%\n"
    }
   }
  }
 ],
 "metadata": {
  "kernelspec": {
   "display_name": "Python 3",
   "language": "python",
   "name": "python3"
  },
  "language_info": {
   "codemirror_mode": {
    "name": "ipython",
    "version": 2
   },
   "file_extension": ".py",
   "mimetype": "text/x-python",
   "name": "python",
   "nbconvert_exporter": "python",
   "pygments_lexer": "ipython2",
   "version": "2.7.6"
  }
 },
 "nbformat": 4,
 "nbformat_minor": 0
}